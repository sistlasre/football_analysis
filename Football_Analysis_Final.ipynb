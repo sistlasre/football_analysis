{
 "cells": [
  {
   "cell_type": "code",
   "execution_count": 1,
   "id": "under-zealand",
   "metadata": {},
   "outputs": [],
   "source": [
    "import numpy as np\n",
    "import pandas as pd"
   ]
  },
  {
   "cell_type": "code",
   "execution_count": 2,
   "id": "fantastic-isaac",
   "metadata": {},
   "outputs": [],
   "source": [
    "# Columns we want from the dataset\n",
    "columns_to_use = ['game_id', 'game_date', 'yardline_100', 'yrdln', 'ydstogo', 'ydsnet', 'desc', 'play_type', 'yards_gained', 'shotgun', 'no_huddle', 'qb_dropback', 'qb_scramble', 'pass_length', 'pass_location', 'air_yards', 'yards_after_catch', 'run_location', 'run_gap', 'field_goal_result', 'kick_distance', 'extra_point_result', 'two_point_conv_result', 'incomplete_pass', 'interception', 'qb_hit', 'pass_attempt', 'rush_attempt', 'sack', 'touchdown', 'pass_touchdown', 'rush_touchdown', 'extra_point_attempt', 'two_point_attempt', 'field_goal_attempt', 'passer_player_id', 'passer_player_name', 'receiver_player_id', 'receiver_player_name', 'rusher_player_id', 'rusher_player_name']"
   ]
  },
  {
   "cell_type": "markdown",
   "id": "grave-skating",
   "metadata": {},
   "source": [
    "### Fetched the following dataset from Kaggle:\n",
    "\n",
    "https://www.kaggle.com/maxhorowitz/nflplaybyplay2009to2016?select=NFL+Play+by+Play+2009-2018+%28v5%29.csv"
   ]
  },
  {
   "cell_type": "code",
   "execution_count": 3,
   "id": "manufactured-netscape",
   "metadata": {},
   "outputs": [
    {
     "name": "stderr",
     "output_type": "stream",
     "text": [
      "/home/ec2-user/.local/lib/python3.7/site-packages/IPython/core/interactiveshell.py:3166: DtypeWarning: Columns (42) have mixed types.Specify dtype option on import or set low_memory=False.\n",
      "  interactivity=interactivity, compiler=compiler, result=result)\n"
     ]
    }
   ],
   "source": [
    "df = pd.read_csv(\"nfl_play_by_play.csv\", usecols=columns_to_use)"
   ]
  },
  {
   "cell_type": "code",
   "execution_count": 4,
   "id": "bibliographic-norway",
   "metadata": {},
   "outputs": [],
   "source": [
    "# Only want rows that correspond to the 4 specific play types\n",
    "# And let's make sure we drop the old index\n",
    "df = df[df['play_type'].isin(['pass', 'run', 'field_goal', 'extra_point'])].reset_index(drop=True)"
   ]
  },
  {
   "cell_type": "code",
   "execution_count": 5,
   "id": "drawn-choir",
   "metadata": {},
   "outputs": [],
   "source": [
    "def convertGameDateToSeason(game_date):\n",
    "    # If the month is January or February, that means we are in the prior season. So year - 1\n",
    "    # (game_date.month <= 2) will be 1 if prior season. 0 otherwise.\n",
    "    return game_date.year - (game_date.month <= 2)"
   ]
  },
  {
   "cell_type": "code",
   "execution_count": 6,
   "id": "coral-jewel",
   "metadata": {},
   "outputs": [
    {
     "data": {
      "text/plain": [
       "dtype('O')"
      ]
     },
     "execution_count": 6,
     "metadata": {},
     "output_type": "execute_result"
    }
   ],
   "source": [
    "# Let's check the type of game date as we want to ensure it is a datetime object\n",
    "df.dtypes['game_date']"
   ]
  },
  {
   "cell_type": "code",
   "execution_count": 7,
   "id": "academic-dominican",
   "metadata": {},
   "outputs": [],
   "source": [
    "# Convert to a datetime object since it wasn't already\n",
    "df['game_date'] = pd.to_datetime(df['game_date'])"
   ]
  },
  {
   "cell_type": "code",
   "execution_count": 8,
   "id": "polyphonic-canberra",
   "metadata": {},
   "outputs": [
    {
     "data": {
      "text/plain": [
       "dtype('<M8[ns]')"
      ]
     },
     "execution_count": 8,
     "metadata": {},
     "output_type": "execute_result"
    }
   ],
   "source": [
    "# Let's double check\n",
    "df.dtypes['game_date']"
   ]
  },
  {
   "cell_type": "code",
   "execution_count": 9,
   "id": "detected-terror",
   "metadata": {},
   "outputs": [],
   "source": [
    "# Create a new field to represent the season\n",
    "df['season'] = df['game_date'].map(convertGameDateToSeason)"
   ]
  },
  {
   "cell_type": "code",
   "execution_count": 10,
   "id": "stopped-setup",
   "metadata": {},
   "outputs": [],
   "source": [
    "# Let's save all the plays by season for easy consumption later\n",
    "for year in df['season'].unique():\n",
    "    df[df['season'] == year].to_csv(f\"season_datasets/{year}_plays.csv\", index=False)"
   ]
  },
  {
   "cell_type": "markdown",
   "id": "afraid-eugene",
   "metadata": {},
   "source": [
    "__Now that we have populated the files, let's read them and derive some extra columns we may want for our visualizations__\n"
   ]
  },
  {
   "cell_type": "code",
   "execution_count": 260,
   "id": "selective-premiere",
   "metadata": {},
   "outputs": [],
   "source": [
    "import numpy as np\n",
    "import pandas as pd\n",
    "import re"
   ]
  },
  {
   "cell_type": "code",
   "execution_count": 261,
   "id": "martial-minutes",
   "metadata": {},
   "outputs": [
    {
     "data": {
      "text/plain": [
       "array(['left', nan, 'right', 'middle'], dtype=object)"
      ]
     },
     "execution_count": 261,
     "metadata": {},
     "output_type": "execute_result"
    }
   ],
   "source": [
    "df['pass_location'].unique()"
   ]
  },
  {
   "cell_type": "markdown",
   "id": "sorted-training",
   "metadata": {},
   "source": [
    "__The pass location field doesn't provide the added level of granularity I want for my analysis so let's try parsing the description__"
   ]
  },
  {
   "cell_type": "code",
   "execution_count": 262,
   "id": "loaded-dover",
   "metadata": {},
   "outputs": [
    {
     "name": "stdout",
     "output_type": "stream",
     "text": [
      "(6:02) (Shotgun) B.Weeden sacked at BAL 50 for -9 yards (E.Dumervil).\n",
      "(4:01) T.Taylor sacked at BUF 13 for -7 yards (D.Harris).\n",
      "(5:42) (Shotgun) A.Smith sacked at KC 30 for -4 yards (F.Cox).\n",
      "(9:28) T.Yates sacked at HOU 29 for -3 yards (M.Lawson).\n",
      "(2:09) D.Brees sacked at NO 15 for -5 yards (J.Watt).\n",
      "(9:13) (Shotgun) A.Smith sacked at TEN 38 for -4 yards (B.Orakpo).\n",
      "(11:10) (Shotgun) R.Tannehill sacked at PHI 24 for -9 yards (sack split by F.Cox and V.Curry).\n",
      "(12:43) R.Fitzpatrick sacked at BUF 42 for -10 yards (S.Ellis). NYJ-S.Ellis was injured during the play. His return is Questionable.\n",
      "(5:21) (Shotgun) T.Romo sacked at DAL 35 for -6 yards (A.Carter).\n",
      "(10:29) (Shotgun) C.Wentz pass to C.Wentz to CIN 28 for 7 yards (V.Burfict). {Pass tipped by #93 W.Clarke}\n"
     ]
    }
   ],
   "source": [
    "# Let's take a look at the pass plays that have no location\n",
    "for description in df[(df['play_type'] == 'pass') & (df['pass_location'].isna())].sample(10).desc:\n",
    "    print(description)"
   ]
  },
  {
   "cell_type": "markdown",
   "id": "minute-theory",
   "metadata": {},
   "source": [
    "__There are some that are passes with no location. But most of these look like sacks. So we can remove them from our analysis for now__"
   ]
  },
  {
   "cell_type": "code",
   "execution_count": 263,
   "id": "marine-necessity",
   "metadata": {},
   "outputs": [
    {
     "name": "stdout",
     "output_type": "stream",
     "text": [
      "Number of pass plays for each pass location\n",
      "==================================================\n",
      "No Location:  12818\n",
      "left:  62909\n",
      "right:  70110\n",
      "middle:  40840\n"
     ]
    }
   ],
   "source": [
    "# Let's just check the number of each of the pass locations so we feel more comfortable filtering out.\n",
    "print(\"Number of pass plays for each pass location\")\n",
    "print(\"=\"*50)\n",
    "print(\"No Location: \", len(df[(df['play_type'] == 'pass') & (df['pass_location'].isna())]))\n",
    "for location in ['left', 'right', 'middle']:\n",
    "    print(f\"{location}: \", len(df[(df['play_type'] == 'pass') & (df['pass_location'] == location)]))"
   ]
  },
  {
   "cell_type": "code",
   "execution_count": 264,
   "id": "opening-trouble",
   "metadata": {},
   "outputs": [
    {
     "name": "stdout",
     "output_type": "stream",
     "text": [
      "======================================== left ========================================\n",
      "(10:29) T.Brady pass short left to W.Welker ran ob at 50 for 14 yards. NE 12-Brady 51st career 300-yard game, tying Dan Fouts for 6th most all-time.\n",
      "(6:50) E.Manning pass short left to T.Beckum for 1 yard, TOUCHDOWN.\n",
      "(4:36) (Shotgun) A.Rodgers pass short left to D.Driver to GB 27 for 5 yards (J.Wilhite).\n",
      "(7:24) D.Brees pass short left to M.Ingram to NO 31 for 16 yards (C.Jones; E.Goldman). Pass -5, YAC 21\n",
      "(13:53) A.Dalton pass short left to M.Jones to CIN 35 for 3 yards (R.Marshall).\n",
      "======================================== right ========================================\n",
      "(15:00) M.Schaub pass incomplete short right to C.Brown.\n",
      "(:22) N.Foles pass deep right to J.Cook ran ob at SEA 16 for 20 yards.\n",
      "(11:53) (Shotgun) B.Roethlisberger pass incomplete short right to H.Miller (D.Jackson).\n",
      "(7:00) (Run formation) R.Tannehill pass short right to B.Hartline to IND 21 for 7 yards (J.Powers).\n",
      "(10:55) (Shotgun) J.Cutler pass incomplete short right to B.Marshall (C.Houston).\n",
      "======================================== middle ========================================\n",
      "(4:16) J.Flacco pass deep middle to D.Mason to CAR 32 for 23 yards (N.Harris).\n",
      "(12:05) (Shotgun) K.Cousins pass short middle to J.Reed to PIT 40 for 13 yards (C.Heyward).\n",
      "(:43) (No Huddle, Shotgun) C.McCoy pass incomplete short middle to G.Little.\n",
      "(1:10) (Shotgun) D.Carr pass incomplete short middle to M.Crabtree.\n",
      "(13:45) (Shotgun) C.Redman pass short middle to J.Snelling to NO 30 for 38 yards (M.Jenkins).\n"
     ]
    }
   ],
   "source": [
    "# Let's see some sample description for each of the passing locations\n",
    "for location in ['left', 'right', 'middle']:\n",
    "    print(\"=\"*40, location, \"=\"*40)\n",
    "    for description in df[(df['play_type'] == 'pass') & (df['pass_location'] == location)].sample(5).desc:\n",
    "        print(description)"
   ]
  },
  {
   "cell_type": "code",
   "execution_count": 265,
   "id": "nervous-camel",
   "metadata": {},
   "outputs": [],
   "source": [
    "# Let's see if we can properly parse enough of the rows to get enough data for our analysis\n",
    "df['pass_loc_detailed'] = df[df['play_type'] == 'pass']['desc'].str.extract(r\"pass (?:incomplete )?([A-Za-z\\s]+?)\\.? (?:to|intended|intercepted)\", flags=re.IGNORECASE)"
   ]
  },
  {
   "cell_type": "code",
   "execution_count": 266,
   "id": "retired-extent",
   "metadata": {
    "scrolled": true
   },
   "outputs": [
    {
     "data": {
      "text/plain": [
       "short right              56622\n",
       "short left               50554\n",
       "short middle             32976\n",
       "deep right               12439\n",
       "deep left                11969\n",
       "deep middle               7699\n",
       "incomplete                 103\n",
       "right                       17\n",
       "left                        16\n",
       "middle                      12\n",
       "short left end               3\n",
       "short right end              2\n",
       "was                          2\n",
       "was thrown incomplete        1\n",
       "Name: pass_loc_detailed, dtype: int64"
      ]
     },
     "execution_count": 266,
     "metadata": {},
     "output_type": "execute_result"
    }
   ],
   "source": [
    "# Let's see what we got!\n",
    "df['pass_loc_detailed'].value_counts()"
   ]
  },
  {
   "cell_type": "markdown",
   "id": "municipal-credit",
   "metadata": {},
   "source": [
    "__Since we want the extra granularity, let's just keep the first 6 listed above.__  \n",
    "__Should be okay since the ones we are filtering out make up an extremely tiny porition of the data.__\n"
   ]
  },
  {
   "cell_type": "code",
   "execution_count": 267,
   "id": "atmospheric-gospel",
   "metadata": {},
   "outputs": [],
   "source": [
    "# Let's just ensure that we can get the top 6 locations without having to hardcode based on the data\n",
    "# We could also consider doing this by a percentage threshold but this is probably fine for now.\n",
    "valid_locations = df['pass_loc_detailed'].value_counts().index[0:6]"
   ]
  },
  {
   "cell_type": "code",
   "execution_count": 268,
   "id": "conditional-appraisal",
   "metadata": {},
   "outputs": [
    {
     "data": {
      "text/plain": [
       "Index(['short right', 'short left', 'short middle', 'deep right', 'deep left',\n",
       "       'deep middle'],\n",
       "      dtype='object')"
      ]
     },
     "execution_count": 268,
     "metadata": {},
     "output_type": "execute_result"
    }
   ],
   "source": [
    "valid_locations"
   ]
  },
  {
   "cell_type": "code",
   "execution_count": 269,
   "id": "inner-field",
   "metadata": {},
   "outputs": [],
   "source": [
    "df.loc[(df['play_type'] == 'pass') & ~(df['pass_loc_detailed'].isin(valid_locations)), 'pass_loc_detailed'] = np.nan"
   ]
  },
  {
   "cell_type": "code",
   "execution_count": 270,
   "id": "faced-patch",
   "metadata": {},
   "outputs": [
    {
     "data": {
      "text/plain": [
       "short right     56622\n",
       "short left      50554\n",
       "short middle    32976\n",
       "deep right      12439\n",
       "deep left       11969\n",
       "deep middle      7699\n",
       "Name: pass_loc_detailed, dtype: int64"
      ]
     },
     "execution_count": 270,
     "metadata": {},
     "output_type": "execute_result"
    }
   ],
   "source": [
    "# Let's see what we got after we filtered out a bit\n",
    "df['pass_loc_detailed'].value_counts()"
   ]
  },
  {
   "cell_type": "markdown",
   "id": "coordinated-reliance",
   "metadata": {},
   "source": [
    "__For fun, let's inspect the field goal and extra point success over the years.__"
   ]
  },
  {
   "cell_type": "code",
   "execution_count": 271,
   "id": "wooden-excerpt",
   "metadata": {},
   "outputs": [
    {
     "data": {
      "text/plain": [
       "array(['good', 'failed', 'blocked', 'aborted'], dtype=object)"
      ]
     },
     "execution_count": 271,
     "metadata": {},
     "output_type": "execute_result"
    }
   ],
   "source": [
    "# Let's first see the possible values for the extra point.\n",
    "df.loc[df['play_type'] == 'extra_point', 'extra_point_result'].unique()"
   ]
  },
  {
   "cell_type": "markdown",
   "id": "animal-pathology",
   "metadata": {},
   "source": [
    "__We only want to consider plays where the kicker actually kicked the ball. So we can filter out \"aborted\"__"
   ]
  },
  {
   "cell_type": "code",
   "execution_count": 272,
   "id": "other-directive",
   "metadata": {},
   "outputs": [],
   "source": [
    "# Let's swap aborted to NaN\n",
    "df['extra_point_result'] = df['extra_point_result'].replace(to_replace=\"aborted\", value=np.nan)"
   ]
  },
  {
   "cell_type": "code",
   "execution_count": 273,
   "id": "superb-gravity",
   "metadata": {},
   "outputs": [
    {
     "data": {
      "text/plain": [
       "array(['good', 'failed', 'blocked', nan], dtype=object)"
      ]
     },
     "execution_count": 273,
     "metadata": {},
     "output_type": "execute_result"
    }
   ],
   "source": [
    "# Let's double check that we only have 3 non-NaN results\n",
    "df.loc[df['play_type'] == 'extra_point', 'extra_point_result'].unique()"
   ]
  },
  {
   "cell_type": "code",
   "execution_count": 274,
   "id": "substantial-intake",
   "metadata": {},
   "outputs": [],
   "source": [
    "# Let's just rename to Made or Missed for ease\n",
    "df['extra_point_result'] = df['extra_point_result'].replace(to_replace=[\"good\", \"failed\", \"blocked\"], value=[\"Made\", \"Missed\", \"Missed\"])"
   ]
  },
  {
   "cell_type": "code",
   "execution_count": 275,
   "id": "understood-grounds",
   "metadata": {},
   "outputs": [],
   "source": [
    "import matplotlib.pyplot as plt\n",
    "import seaborn as sns"
   ]
  },
  {
   "cell_type": "code",
   "execution_count": 276,
   "id": "coupled-electron",
   "metadata": {},
   "outputs": [
    {
     "data": {
      "text/plain": [
       "Int64Index([2009, 2010, 2011, 2012, 2013, 2014, 2015, 2016, 2017, 2018], dtype='int64', name='season')"
      ]
     },
     "execution_count": 276,
     "metadata": {},
     "output_type": "execute_result"
    }
   ],
   "source": [
    "xp_kicks_by_season.index.to_flat_index()"
   ]
  },
  {
   "cell_type": "code",
   "execution_count": 277,
   "id": "everyday-plate",
   "metadata": {},
   "outputs": [],
   "source": [
    "xp_kicks_by_season = df[df['extra_point_result'] == 'Made'].groupby(['season']).agg({'extra_point_result': 'count'}).div(df[~df['extra_point_result'].isna()].groupby(['season']).agg({'extra_point_result': 'count'})).rename(columns={\"extra_point_result\": \"XP Pct\"})"
   ]
  },
  {
   "cell_type": "code",
   "execution_count": 278,
   "id": "vital-cricket",
   "metadata": {},
   "outputs": [
    {
     "data": {
      "image/png": "[encoded data removed]",
      "text/plain": [
       "<Figure size 432x288 with 1 Axes>"
      ]
     },
     "metadata": {
      "needs_background": "light"
     },
     "output_type": "display_data"
    }
   ],
   "source": [
    "ax = sns.lineplot(data=xp_kicks_by_season);\n",
    "ax.set(ylim=(.9, 1));"
   ]
  },
  {
   "cell_type": "code",
   "execution_count": null,
   "id": "anticipated-casting",
   "metadata": {},
   "outputs": [],
   "source": []
  },
  {
   "cell_type": "code",
   "execution_count": null,
   "id": "sound-ministry",
   "metadata": {},
   "outputs": [],
   "source": []
  },
  {
   "cell_type": "code",
   "execution_count": null,
   "id": "stretch-thread",
   "metadata": {},
   "outputs": [],
   "source": []
  },
  {
   "cell_type": "code",
   "execution_count": 279,
   "id": "adjusted-style",
   "metadata": {},
   "outputs": [
    {
     "data": {
      "text/plain": [
       "array(['missed', 'blocked', 'made'], dtype=object)"
      ]
     },
     "execution_count": 279,
     "metadata": {},
     "output_type": "execute_result"
    }
   ],
   "source": [
    "# Let's first see the possible values for the field goal\n",
    "df.loc[df['play_type'] == 'field_goal', 'field_goal_result'].unique()"
   ]
  },
  {
   "cell_type": "code",
   "execution_count": 280,
   "id": "essential-arnold",
   "metadata": {},
   "outputs": [],
   "source": [
    "# Let's just classify a block as a miss\n",
    "df['field_goal_result'] = df['field_goal_result'].replace(to_replace=\"blocked\", value=\"missed\")"
   ]
  },
  {
   "cell_type": "code",
   "execution_count": 281,
   "id": "designing-generation",
   "metadata": {},
   "outputs": [
    {
     "data": {
      "text/plain": [
       "array(['missed', 'made'], dtype=object)"
      ]
     },
     "execution_count": 281,
     "metadata": {},
     "output_type": "execute_result"
    }
   ],
   "source": [
    "# Let's verify it changed\n",
    "df.loc[df['play_type'] == 'field_goal', 'field_goal_result'].unique()"
   ]
  },
  {
   "cell_type": "code",
   "execution_count": 282,
   "id": "advised-better",
   "metadata": {},
   "outputs": [
    {
     "data": {
      "text/plain": [
       "8"
      ]
     },
     "execution_count": 282,
     "metadata": {},
     "output_type": "execute_result"
    }
   ],
   "source": [
    "# Now, let's check if we have any NaN for kick distance\n",
    "len(df[(df['play_type'] == 'field_goal') & (df['kick_distance'].isna())])"
   ]
  },
  {
   "cell_type": "code",
   "execution_count": 294,
   "id": "julian-mexico",
   "metadata": {},
   "outputs": [],
   "source": [
    "# Since a small number, let's just use the yard line and add 18 to get the kick distance.\n",
    "df.loc[(df['play_type'] == 'field_goal') & (df['kick_distance'].isna()), 'kick_distance'] = df[(df['play_type'] == 'field_goal') & (df['kick_distance'].isna())]['yardline_100'] + 18"
   ]
  },
  {
   "cell_type": "code",
   "execution_count": 295,
   "id": "eight-kitty",
   "metadata": {},
   "outputs": [
    {
     "data": {
      "text/plain": [
       "0"
      ]
     },
     "execution_count": 295,
     "metadata": {},
     "output_type": "execute_result"
    }
   ],
   "source": [
    "# Let's double check it worked\n",
    "len(df[(df['play_type'] == 'field_goal') & (df['kick_distance'].isna())])"
   ]
  },
  {
   "cell_type": "code",
   "execution_count": 310,
   "id": "impressed-development",
   "metadata": {},
   "outputs": [],
   "source": [
    "def convertKickDistanceToFgRange(distance):\n",
    "    rangeBegin = int(10*(distance//10))\n",
    "    return f\"{rangeBegin}-{rangeBegin+9}\""
   ]
  },
  {
   "cell_type": "code",
   "execution_count": 324,
   "id": "dressed-request",
   "metadata": {},
   "outputs": [],
   "source": [
    "df['fg_range'] = df[df['play_type'] == 'field_goal']['kick_distance'].map(convertKickDistanceToFgRange, na_action='ignore')"
   ]
  },
  {
   "cell_type": "code",
   "execution_count": 325,
   "id": "registered-british",
   "metadata": {},
   "outputs": [
    {
     "data": {
      "text/plain": [
       "array([nan, '30-39', '40-49', '20-29', '50-59', '60-69', '10-19', '70-79'],\n",
       "      dtype=object)"
      ]
     },
     "execution_count": 325,
     "metadata": {},
     "output_type": "execute_result"
    }
   ],
   "source": [
    "# Let's check if it spit out what we expected\n",
    "df['fg_range'].unique()"
   ]
  },
  {
   "cell_type": "code",
   "execution_count": 329,
   "id": "powered-rebound",
   "metadata": {},
   "outputs": [],
   "source": [
    "fg_kicks_by_season = df[~df['fg_range'].isna()].groupby(['season', 'fg_range']).size().to_frame(\"num_kicks\")"
   ]
  },
  {
   "cell_type": "code",
   "execution_count": 330,
   "id": "convenient-durham",
   "metadata": {},
   "outputs": [
    {
     "data": {
      "image/png": "[encoded data removed]",
      "text/plain": [
       "<Figure size 432x288 with 1 Axes>"
      ]
     },
     "metadata": {
      "needs_background": "light"
     },
     "output_type": "display_data"
    }
   ],
   "source": [
    "sns.lineplot(data=fg_kicks_by_season.reset_index(), x='season', y='num_kicks', hue='fg_range');"
   ]
  },
  {
   "cell_type": "code",
   "execution_count": 331,
   "id": "former-basic",
   "metadata": {},
   "outputs": [],
   "source": [
    "pct_fg_by_season = df[df['field_goal_result'] == 'made'].groupby(['season', 'fg_range']).agg({'field_goal_result': 'count'}).div(df[~df['field_goal_result'].isna()].groupby(['season', 'fg_range']).agg({'field_goal_result': 'count'})).rename(columns={\"field_goal_result\": \"FG Pct\"})"
   ]
  },
  {
   "cell_type": "code",
   "execution_count": 332,
   "id": "automated-gothic",
   "metadata": {},
   "outputs": [
    {
     "data": {
      "image/png": "[encoded data removed]",
      "text/plain": [
       "<Figure size 432x288 with 1 Axes>"
      ]
     },
     "metadata": {
      "needs_background": "light"
     },
     "output_type": "display_data"
    }
   ],
   "source": [
    "sns.lineplot(data=pct_fg_by_season.reset_index(), x='season', y='FG Pct', hue='fg_range');"
   ]
  },
  {
   "cell_type": "code",
   "execution_count": null,
   "id": "accessory-switch",
   "metadata": {},
   "outputs": [],
   "source": []
  },
  {
   "cell_type": "code",
   "execution_count": null,
   "id": "reported-loading",
   "metadata": {},
   "outputs": [],
   "source": []
  },
  {
   "cell_type": "code",
   "execution_count": null,
   "id": "helpful-dietary",
   "metadata": {},
   "outputs": [],
   "source": []
  },
  {
   "cell_type": "code",
   "execution_count": null,
   "id": "declared-ambassador",
   "metadata": {},
   "outputs": [],
   "source": []
  },
  {
   "cell_type": "code",
   "execution_count": null,
   "id": "freelance-hybrid",
   "metadata": {},
   "outputs": [],
   "source": []
  },
  {
   "cell_type": "code",
   "execution_count": null,
   "id": "judicial-flower",
   "metadata": {},
   "outputs": [],
   "source": []
  },
  {
   "cell_type": "code",
   "execution_count": null,
   "id": "rotary-finance",
   "metadata": {},
   "outputs": [],
   "source": []
  },
  {
   "cell_type": "code",
   "execution_count": null,
   "id": "bottom-serve",
   "metadata": {},
   "outputs": [],
   "source": []
  },
  {
   "cell_type": "code",
   "execution_count": null,
   "id": "interpreted-bangkok",
   "metadata": {},
   "outputs": [],
   "source": []
  },
  {
   "cell_type": "code",
   "execution_count": null,
   "id": "pressed-milton",
   "metadata": {},
   "outputs": [],
   "source": []
  },
  {
   "cell_type": "code",
   "execution_count": null,
   "id": "furnished-contamination",
   "metadata": {},
   "outputs": [],
   "source": []
  },
  {
   "cell_type": "code",
   "execution_count": null,
   "id": "sixth-annual",
   "metadata": {},
   "outputs": [],
   "source": []
  },
  {
   "cell_type": "code",
   "execution_count": null,
   "id": "overall-belize",
   "metadata": {},
   "outputs": [],
   "source": []
  },
  {
   "cell_type": "code",
   "execution_count": 125,
   "id": "downtown-tennis",
   "metadata": {},
   "outputs": [],
   "source": [
    "import matplotlib.pyplot as plt\n",
    "import seaborn as sns"
   ]
  },
  {
   "cell_type": "code",
   "execution_count": 126,
   "id": "rapid-lambda",
   "metadata": {},
   "outputs": [],
   "source": [
    "pass_locations_by_season = df[~df['pass_loc_detailed'].isna()].groupby(['season', 'pass_loc_detailed']).size().to_frame(\"num_plays\")"
   ]
  },
  {
   "cell_type": "code",
   "execution_count": 156,
   "id": "sweet-shannon",
   "metadata": {},
   "outputs": [
    {
     "data": {
      "image/png": "[encoded data removed]",
      "text/plain": [
       "<Figure size 432x288 with 1 Axes>"
      ]
     },
     "metadata": {
      "needs_background": "light"
     },
     "output_type": "display_data"
    }
   ],
   "source": [
    "sns.lineplot(data=pass_locations_by_season.reset_index(), x='season', y='num_plays', hue='pass_loc_detailed');"
   ]
  },
  {
   "cell_type": "code",
   "execution_count": 333,
   "id": "mighty-pharmacy",
   "metadata": {
    "scrolled": true
   },
   "outputs": [
    {
     "data": {
      "text/plain": [
       "<AxesSubplot:ylabel='season-pass_loc_detailed'>"
      ]
     },
     "execution_count": 333,
     "metadata": {},
     "output_type": "execute_result"
    },
    {
     "data": {
      "image/png": "[encoded data removed]",
      "text/plain": [
       "<Figure size 432x288 with 2 Axes>"
      ]
     },
     "metadata": {
      "needs_background": "light"
     },
     "output_type": "display_data"
    }
   ],
   "source": [
    "sns.heatmap(pass_locations_by_season)"
   ]
  },
  {
   "cell_type": "code",
   "execution_count": 338,
   "id": "sticky-wrapping",
   "metadata": {},
   "outputs": [
    {
     "data": {
      "text/plain": [
       "<AxesSubplot:xlabel='pass_loc_detailed', ylabel='season'>"
      ]
     },
     "execution_count": 338,
     "metadata": {},
     "output_type": "execute_result"
    },
    {
     "data": {
      "image/png": "[encoded data removed]",
      "text/plain": [
       "<Figure size 432x288 with 2 Axes>"
      ]
     },
     "metadata": {
      "needs_background": "light"
     },
     "output_type": "display_data"
    }
   ],
   "source": [
    "sns.heatmap(pass_locations_by_season.reset_index().pivot(\"season\", \"pass_loc_detailed\", \"num_plays\"))"
   ]
  },
  {
   "cell_type": "code",
   "execution_count": null,
   "id": "female-referral",
   "metadata": {},
   "outputs": [],
   "source": []
  },
  {
   "cell_type": "code",
   "execution_count": null,
   "id": "dated-logistics",
   "metadata": {},
   "outputs": [],
   "source": []
  },
  {
   "cell_type": "code",
   "execution_count": null,
   "id": "extraordinary-tomorrow",
   "metadata": {},
   "outputs": [],
   "source": []
  },
  {
   "cell_type": "code",
   "execution_count": null,
   "id": "blind-favor",
   "metadata": {},
   "outputs": [],
   "source": []
  },
  {
   "cell_type": "code",
   "execution_count": 339,
   "id": "convertible-price",
   "metadata": {},
   "outputs": [
    {
     "data": {
      "text/html": [
       "<div>\n",
       "<style scoped>\n",
       "    .dataframe tbody tr th:only-of-type {\n",
       "        vertical-align: middle;\n",
       "    }\n",
       "\n",
       "    .dataframe tbody tr th {\n",
       "        vertical-align: top;\n",
       "    }\n",
       "\n",
       "    .dataframe thead th {\n",
       "        text-align: right;\n",
       "    }\n",
       "</style>\n",
       "<table border=\"1\" class=\"dataframe\">\n",
       "  <thead>\n",
       "    <tr style=\"text-align: right;\">\n",
       "      <th></th>\n",
       "      <th>yardline_100</th>\n",
       "      <th>game_date</th>\n",
       "      <th>yrdln</th>\n",
       "      <th>ydstogo</th>\n",
       "      <th>ydsnet</th>\n",
       "      <th>desc</th>\n",
       "      <th>play_type</th>\n",
       "      <th>yards_gained</th>\n",
       "      <th>shotgun</th>\n",
       "      <th>no_huddle</th>\n",
       "      <th>...</th>\n",
       "      <th>field_goal_attempt</th>\n",
       "      <th>passer_player_id</th>\n",
       "      <th>passer_player_name</th>\n",
       "      <th>receiver_player_id</th>\n",
       "      <th>receiver_player_name</th>\n",
       "      <th>rusher_player_id</th>\n",
       "      <th>rusher_player_name</th>\n",
       "      <th>season</th>\n",
       "      <th>pass_loc_detailed</th>\n",
       "      <th>fg_range</th>\n",
       "    </tr>\n",
       "  </thead>\n",
       "  <tbody>\n",
       "  </tbody>\n",
       "</table>\n",
       "<p>0 rows × 43 columns</p>\n",
       "</div>"
      ],
      "text/plain": [
       "Empty DataFrame\n",
       "Columns: [yardline_100, game_date, yrdln, ydstogo, ydsnet, desc, play_type, yards_gained, shotgun, no_huddle, qb_dropback, qb_scramble, pass_length, pass_location, air_yards, yards_after_catch, run_location, run_gap, field_goal_result, kick_distance, extra_point_result, two_point_conv_result, incomplete_pass, interception, qb_hit, rush_attempt, pass_attempt, sack, touchdown, pass_touchdown, rush_touchdown, extra_point_attempt, two_point_attempt, field_goal_attempt, passer_player_id, passer_player_name, receiver_player_id, receiver_player_name, rusher_player_id, rusher_player_name, season, pass_loc_detailed, fg_range]\n",
       "Index: []\n",
       "\n",
       "[0 rows x 43 columns]"
      ]
     },
     "execution_count": 339,
     "metadata": {},
     "output_type": "execute_result"
    }
   ],
   "source": [
    "df[(df['play_type'] == 'run') & (df.rusher_player_id.isna())]"
   ]
  },
  {
   "cell_type": "code",
   "execution_count": 343,
   "id": "lucky-twelve",
   "metadata": {},
   "outputs": [
    {
     "data": {
      "text/html": [
       "<div>\n",
       "<style scoped>\n",
       "    .dataframe tbody tr th:only-of-type {\n",
       "        vertical-align: middle;\n",
       "    }\n",
       "\n",
       "    .dataframe tbody tr th {\n",
       "        vertical-align: top;\n",
       "    }\n",
       "\n",
       "    .dataframe thead th {\n",
       "        text-align: right;\n",
       "    }\n",
       "</style>\n",
       "<table border=\"1\" class=\"dataframe\">\n",
       "  <thead>\n",
       "    <tr style=\"text-align: right;\">\n",
       "      <th></th>\n",
       "      <th>yards_gained</th>\n",
       "    </tr>\n",
       "    <tr>\n",
       "      <th>season</th>\n",
       "      <th></th>\n",
       "    </tr>\n",
       "  </thead>\n",
       "  <tbody>\n",
       "    <tr>\n",
       "      <th>2009</th>\n",
       "      <td>2008.0</td>\n",
       "    </tr>\n",
       "    <tr>\n",
       "      <th>2010</th>\n",
       "      <td>1614.0</td>\n",
       "    </tr>\n",
       "    <tr>\n",
       "      <th>2011</th>\n",
       "      <td>1606.0</td>\n",
       "    </tr>\n",
       "    <tr>\n",
       "      <th>2012</th>\n",
       "      <td>2099.0</td>\n",
       "    </tr>\n",
       "    <tr>\n",
       "      <th>2013</th>\n",
       "      <td>1607.0</td>\n",
       "    </tr>\n",
       "    <tr>\n",
       "      <th>2014</th>\n",
       "      <td>1845.0</td>\n",
       "    </tr>\n",
       "    <tr>\n",
       "      <th>2015</th>\n",
       "      <td>1485.0</td>\n",
       "    </tr>\n",
       "    <tr>\n",
       "      <th>2016</th>\n",
       "      <td>1631.0</td>\n",
       "    </tr>\n",
       "    <tr>\n",
       "      <th>2017</th>\n",
       "      <td>1327.0</td>\n",
       "    </tr>\n",
       "    <tr>\n",
       "      <th>2018</th>\n",
       "      <td>1500.0</td>\n",
       "    </tr>\n",
       "  </tbody>\n",
       "</table>\n",
       "</div>"
      ],
      "text/plain": [
       "        yards_gained\n",
       "season              \n",
       "2009          2008.0\n",
       "2010          1614.0\n",
       "2011          1606.0\n",
       "2012          2099.0\n",
       "2013          1607.0\n",
       "2014          1845.0\n",
       "2015          1485.0\n",
       "2016          1631.0\n",
       "2017          1327.0\n",
       "2018          1500.0"
      ]
     },
     "execution_count": 343,
     "metadata": {},
     "output_type": "execute_result"
    }
   ],
   "source": [
    "df[df['play_type'] == 'run'].groupby(['season', 'rusher_player_id']).agg({'yards_gained': 'sum'}).max(level=0)"
   ]
  },
  {
   "cell_type": "code",
   "execution_count": 345,
   "id": "differential-flood",
   "metadata": {},
   "outputs": [
    {
     "data": {
      "text/html": [
       "<div>\n",
       "<style scoped>\n",
       "    .dataframe tbody tr th:only-of-type {\n",
       "        vertical-align: middle;\n",
       "    }\n",
       "\n",
       "    .dataframe tbody tr th {\n",
       "        vertical-align: top;\n",
       "    }\n",
       "\n",
       "    .dataframe thead th {\n",
       "        text-align: right;\n",
       "    }\n",
       "</style>\n",
       "<table border=\"1\" class=\"dataframe\">\n",
       "  <thead>\n",
       "    <tr style=\"text-align: right;\">\n",
       "      <th></th>\n",
       "      <th>yards_gained</th>\n",
       "    </tr>\n",
       "    <tr>\n",
       "      <th>season</th>\n",
       "      <th></th>\n",
       "    </tr>\n",
       "  </thead>\n",
       "  <tbody>\n",
       "    <tr>\n",
       "      <th>2009</th>\n",
       "      <td>4619.0</td>\n",
       "    </tr>\n",
       "    <tr>\n",
       "      <th>2010</th>\n",
       "      <td>4609.0</td>\n",
       "    </tr>\n",
       "    <tr>\n",
       "      <th>2011</th>\n",
       "      <td>5614.0</td>\n",
       "    </tr>\n",
       "    <tr>\n",
       "      <th>2012</th>\n",
       "      <td>4987.0</td>\n",
       "    </tr>\n",
       "    <tr>\n",
       "      <th>2013</th>\n",
       "      <td>5357.0</td>\n",
       "    </tr>\n",
       "    <tr>\n",
       "      <th>2014</th>\n",
       "      <td>4771.0</td>\n",
       "    </tr>\n",
       "    <tr>\n",
       "      <th>2015</th>\n",
       "      <td>4643.0</td>\n",
       "    </tr>\n",
       "    <tr>\n",
       "      <th>2016</th>\n",
       "      <td>5023.0</td>\n",
       "    </tr>\n",
       "    <tr>\n",
       "      <th>2017</th>\n",
       "      <td>4395.0</td>\n",
       "    </tr>\n",
       "    <tr>\n",
       "      <th>2018</th>\n",
       "      <td>4649.0</td>\n",
       "    </tr>\n",
       "  </tbody>\n",
       "</table>\n",
       "</div>"
      ],
      "text/plain": [
       "        yards_gained\n",
       "season              \n",
       "2009          4619.0\n",
       "2010          4609.0\n",
       "2011          5614.0\n",
       "2012          4987.0\n",
       "2013          5357.0\n",
       "2014          4771.0\n",
       "2015          4643.0\n",
       "2016          5023.0\n",
       "2017          4395.0\n",
       "2018          4649.0"
      ]
     },
     "execution_count": 345,
     "metadata": {},
     "output_type": "execute_result"
    }
   ],
   "source": [
    "df[df['play_type'] == 'pass'].groupby(['season', 'passer_player_id']).agg({'yards_gained': 'sum'}).max(level=0)"
   ]
  },
  {
   "cell_type": "code",
   "execution_count": 347,
   "id": "inappropriate-jungle",
   "metadata": {},
   "outputs": [
    {
     "data": {
      "text/plain": [
       "<bound method inherit_from_data.<locals>.method of DatetimeIndex(['2009-09-10', '2009-09-10', '2009-09-10', '2009-09-10',\n",
       "               '2009-09-10', '2009-09-10', '2009-09-10', '2009-09-10',\n",
       "               '2009-09-10', '2009-09-10',\n",
       "               ...\n",
       "               '2018-12-17', '2018-12-17', '2018-12-17', '2018-12-17',\n",
       "               '2018-12-17', '2018-12-17', '2018-12-17', '2018-12-17',\n",
       "               '2018-12-17', '2018-12-17'],\n",
       "              dtype='datetime64[ns]', name='game_date', length=340080, freq=None)>"
      ]
     },
     "execution_count": 347,
     "metadata": {},
     "output_type": "execute_result"
    }
   ],
   "source": [
    "pd.DatetimeIndex(df['game_date']).month_name"
   ]
  },
  {
   "cell_type": "code",
   "execution_count": 371,
   "id": "formed-modeling",
   "metadata": {},
   "outputs": [],
   "source": [
    "df['game_month'] = df['game_date'].dt.month_name()"
   ]
  },
  {
   "cell_type": "code",
   "execution_count": 355,
   "id": "final-anthropology",
   "metadata": {},
   "outputs": [
    {
     "data": {
      "text/plain": [
       "array(['September', 'October', 'November', 'December', 'January'],\n",
       "      dtype=object)"
      ]
     },
     "execution_count": 355,
     "metadata": {},
     "output_type": "execute_result"
    }
   ],
   "source": [
    "df.game_month.unique()"
   ]
  },
  {
   "cell_type": "code",
   "execution_count": 356,
   "id": "fatty-perspective",
   "metadata": {},
   "outputs": [],
   "source": [
    "play_types_by_month = df[df['play_type'].isin(['pass', 'run'])].groupby(['game_month', 'play_type']).size().to_frame(\"num_plays\")"
   ]
  },
  {
   "cell_type": "code",
   "execution_count": 357,
   "id": "exact-municipality",
   "metadata": {},
   "outputs": [
    {
     "data": {
      "text/html": [
       "<div>\n",
       "<style scoped>\n",
       "    .dataframe tbody tr th:only-of-type {\n",
       "        vertical-align: middle;\n",
       "    }\n",
       "\n",
       "    .dataframe tbody tr th {\n",
       "        vertical-align: top;\n",
       "    }\n",
       "\n",
       "    .dataframe thead th {\n",
       "        text-align: right;\n",
       "    }\n",
       "</style>\n",
       "<table border=\"1\" class=\"dataframe\">\n",
       "  <thead>\n",
       "    <tr style=\"text-align: right;\">\n",
       "      <th></th>\n",
       "      <th></th>\n",
       "      <th>num_plays</th>\n",
       "    </tr>\n",
       "    <tr>\n",
       "      <th>game_month</th>\n",
       "      <th>play_type</th>\n",
       "      <th></th>\n",
       "    </tr>\n",
       "  </thead>\n",
       "  <tbody>\n",
       "    <tr>\n",
       "      <th rowspan=\"2\" valign=\"top\">December</th>\n",
       "      <th>pass</th>\n",
       "      <td>47974</td>\n",
       "    </tr>\n",
       "    <tr>\n",
       "      <th>run</th>\n",
       "      <td>35383</td>\n",
       "    </tr>\n",
       "    <tr>\n",
       "      <th rowspan=\"2\" valign=\"top\">January</th>\n",
       "      <th>pass</th>\n",
       "      <td>5794</td>\n",
       "    </tr>\n",
       "    <tr>\n",
       "      <th>run</th>\n",
       "      <td>4258</td>\n",
       "    </tr>\n",
       "    <tr>\n",
       "      <th rowspan=\"2\" valign=\"top\">November</th>\n",
       "      <th>pass</th>\n",
       "      <td>46420</td>\n",
       "    </tr>\n",
       "    <tr>\n",
       "      <th>run</th>\n",
       "      <td>32998</td>\n",
       "    </tr>\n",
       "    <tr>\n",
       "      <th rowspan=\"2\" valign=\"top\">October</th>\n",
       "      <th>pass</th>\n",
       "      <td>46457</td>\n",
       "    </tr>\n",
       "    <tr>\n",
       "      <th>run</th>\n",
       "      <td>32503</td>\n",
       "    </tr>\n",
       "    <tr>\n",
       "      <th rowspan=\"2\" valign=\"top\">September</th>\n",
       "      <th>pass</th>\n",
       "      <td>40032</td>\n",
       "    </tr>\n",
       "    <tr>\n",
       "      <th>run</th>\n",
       "      <td>27550</td>\n",
       "    </tr>\n",
       "  </tbody>\n",
       "</table>\n",
       "</div>"
      ],
      "text/plain": [
       "                      num_plays\n",
       "game_month play_type           \n",
       "December   pass           47974\n",
       "           run            35383\n",
       "January    pass            5794\n",
       "           run             4258\n",
       "November   pass           46420\n",
       "           run            32998\n",
       "October    pass           46457\n",
       "           run            32503\n",
       "September  pass           40032\n",
       "           run            27550"
      ]
     },
     "execution_count": 357,
     "metadata": {},
     "output_type": "execute_result"
    }
   ],
   "source": [
    "play_types_by_month"
   ]
  },
  {
   "cell_type": "code",
   "execution_count": 359,
   "id": "settled-jefferson",
   "metadata": {},
   "outputs": [
    {
     "data": {
      "image/png": "[encoded data removed]",
      "text/plain": [
       "<Figure size 432x288 with 1 Axes>"
      ]
     },
     "metadata": {
      "needs_background": "light"
     },
     "output_type": "display_data"
    }
   ],
   "source": [
    "sns.barplot(data=play_types_by_month.reset_index(), x='game_month', y='num_plays', hue='play_type', order=df.game_month.unique());"
   ]
  },
  {
   "cell_type": "code",
   "execution_count": 375,
   "id": "proved-release",
   "metadata": {},
   "outputs": [
    {
     "data": {
      "text/plain": [
       "game_month  play_type\n",
       "December    pass         47974\n",
       "            run          35383\n",
       "January     pass          5794\n",
       "            run           4258\n",
       "November    pass         46420\n",
       "            run          32998\n",
       "October     pass         46457\n",
       "            run          32503\n",
       "September   pass         40032\n",
       "            run          27550\n",
       "dtype: int64"
      ]
     },
     "execution_count": 375,
     "metadata": {},
     "output_type": "execute_result"
    }
   ],
   "source": [
    "df[df['play_type'].isin(['pass', 'run'])].groupby(['game_month', 'play_type']).size()"
   ]
  },
  {
   "cell_type": "code",
   "execution_count": 373,
   "id": "adjusted-softball",
   "metadata": {},
   "outputs": [
    {
     "data": {
      "text/plain": [
       "game_month\n",
       "December     666\n",
       "January       80\n",
       "November     619\n",
       "October      624\n",
       "September    537\n",
       "Name: game_id, dtype: int64"
      ]
     },
     "execution_count": 373,
     "metadata": {},
     "output_type": "execute_result"
    }
   ],
   "source": [
    "df[df['play_type'].isin(['pass', 'run'])].groupby(['game_month'])['game_id'].nunique()"
   ]
  },
  {
   "cell_type": "code",
   "execution_count": 376,
   "id": "trained-assets",
   "metadata": {},
   "outputs": [
    {
     "data": {
      "text/plain": [
       "game_month  play_type\n",
       "December    pass         72.033033\n",
       "            run          53.127628\n",
       "January     pass         72.425000\n",
       "            run          53.225000\n",
       "November    pass         74.991922\n",
       "            run          53.308562\n",
       "October     pass         74.450321\n",
       "            run          52.088141\n",
       "September   pass         74.547486\n",
       "            run          51.303538\n",
       "dtype: float64"
      ]
     },
     "execution_count": 376,
     "metadata": {},
     "output_type": "execute_result"
    }
   ],
   "source": [
    "df[df['play_type'].isin(['pass', 'run'])].groupby(['game_month', 'play_type']).size()/df[df['play_type'].isin(['pass', 'run'])].groupby(['game_month'])['game_id'].nunique()"
   ]
  },
  {
   "cell_type": "code",
   "execution_count": null,
   "id": "elegant-composer",
   "metadata": {},
   "outputs": [],
   "source": []
  },
  {
   "cell_type": "code",
   "execution_count": null,
   "id": "destroyed-intensity",
   "metadata": {},
   "outputs": [],
   "source": []
  },
  {
   "cell_type": "code",
   "execution_count": 388,
   "id": "short-patrick",
   "metadata": {},
   "outputs": [],
   "source": [
    "plays_per_game_by_month_and_season = (df[df['play_type'].isin(['pass', 'run'])].groupby(['season', 'game_month', 'play_type']).size()/df.groupby(['season', 'game_month'])['game_id'].nunique()/2).to_frame(\"num_plays\")"
   ]
  },
  {
   "cell_type": "code",
   "execution_count": 399,
   "id": "productive-hurricane",
   "metadata": {},
   "outputs": [
    {
     "data": {
      "image/png": "[encoded data removed]",
      "text/plain": [
       "<Figure size 432x288 with 1 Axes>"
      ]
     },
     "metadata": {
      "needs_background": "light"
     },
     "output_type": "display_data"
    }
   ],
   "source": [
    "sns.boxplot(data=plays_per_game_by_month_and_season.reset_index(), x='game_month', y='num_plays', hue='play_type', order=df.game_month.unique());"
   ]
  },
  {
   "cell_type": "code",
   "execution_count": 390,
   "id": "exact-belgium",
   "metadata": {},
   "outputs": [
    {
     "data": {
      "text/html": [
       "<div>\n",
       "<style scoped>\n",
       "    .dataframe tbody tr th:only-of-type {\n",
       "        vertical-align: middle;\n",
       "    }\n",
       "\n",
       "    .dataframe tbody tr th {\n",
       "        vertical-align: top;\n",
       "    }\n",
       "\n",
       "    .dataframe thead th {\n",
       "        text-align: right;\n",
       "    }\n",
       "</style>\n",
       "<table border=\"1\" class=\"dataframe\">\n",
       "  <thead>\n",
       "    <tr style=\"text-align: right;\">\n",
       "      <th></th>\n",
       "      <th>season</th>\n",
       "      <th>game_month</th>\n",
       "      <th>play_type</th>\n",
       "      <th>num_plays</th>\n",
       "    </tr>\n",
       "  </thead>\n",
       "  <tbody>\n",
       "    <tr>\n",
       "      <th>0</th>\n",
       "      <td>2009</td>\n",
       "      <td>December</td>\n",
       "      <td>pass</td>\n",
       "      <td>35.125000</td>\n",
       "    </tr>\n",
       "    <tr>\n",
       "      <th>1</th>\n",
       "      <td>2009</td>\n",
       "      <td>December</td>\n",
       "      <td>run</td>\n",
       "      <td>27.476562</td>\n",
       "    </tr>\n",
       "    <tr>\n",
       "      <th>2</th>\n",
       "      <td>2009</td>\n",
       "      <td>January</td>\n",
       "      <td>pass</td>\n",
       "      <td>32.875000</td>\n",
       "    </tr>\n",
       "    <tr>\n",
       "      <th>3</th>\n",
       "      <td>2009</td>\n",
       "      <td>January</td>\n",
       "      <td>run</td>\n",
       "      <td>27.343750</td>\n",
       "    </tr>\n",
       "    <tr>\n",
       "      <th>4</th>\n",
       "      <td>2009</td>\n",
       "      <td>November</td>\n",
       "      <td>pass</td>\n",
       "      <td>35.746575</td>\n",
       "    </tr>\n",
       "    <tr>\n",
       "      <th>...</th>\n",
       "      <td>...</td>\n",
       "      <td>...</td>\n",
       "      <td>...</td>\n",
       "      <td>...</td>\n",
       "    </tr>\n",
       "    <tr>\n",
       "      <th>85</th>\n",
       "      <td>2018</td>\n",
       "      <td>November</td>\n",
       "      <td>run</td>\n",
       "      <td>31.589286</td>\n",
       "    </tr>\n",
       "    <tr>\n",
       "      <th>86</th>\n",
       "      <td>2018</td>\n",
       "      <td>October</td>\n",
       "      <td>pass</td>\n",
       "      <td>37.440678</td>\n",
       "    </tr>\n",
       "    <tr>\n",
       "      <th>87</th>\n",
       "      <td>2018</td>\n",
       "      <td>October</td>\n",
       "      <td>run</td>\n",
       "      <td>25.305085</td>\n",
       "    </tr>\n",
       "    <tr>\n",
       "      <th>88</th>\n",
       "      <td>2018</td>\n",
       "      <td>September</td>\n",
       "      <td>pass</td>\n",
       "      <td>38.750000</td>\n",
       "    </tr>\n",
       "    <tr>\n",
       "      <th>89</th>\n",
       "      <td>2018</td>\n",
       "      <td>September</td>\n",
       "      <td>run</td>\n",
       "      <td>24.685484</td>\n",
       "    </tr>\n",
       "  </tbody>\n",
       "</table>\n",
       "<p>90 rows × 4 columns</p>\n",
       "</div>"
      ],
      "text/plain": [
       "    season game_month play_type  num_plays\n",
       "0     2009   December      pass  35.125000\n",
       "1     2009   December       run  27.476562\n",
       "2     2009    January      pass  32.875000\n",
       "3     2009    January       run  27.343750\n",
       "4     2009   November      pass  35.746575\n",
       "..     ...        ...       ...        ...\n",
       "85    2018   November       run  31.589286\n",
       "86    2018    October      pass  37.440678\n",
       "87    2018    October       run  25.305085\n",
       "88    2018  September      pass  38.750000\n",
       "89    2018  September       run  24.685484\n",
       "\n",
       "[90 rows x 4 columns]"
      ]
     },
     "execution_count": 390,
     "metadata": {},
     "output_type": "execute_result"
    }
   ],
   "source": [
    "plays_per_game_by_month_and_season.reset_index()"
   ]
  },
  {
   "cell_type": "code",
   "execution_count": 392,
   "id": "solved-heating",
   "metadata": {},
   "outputs": [
    {
     "data": {
      "text/plain": [
       "<AxesSubplot:>"
      ]
     },
     "execution_count": 392,
     "metadata": {},
     "output_type": "execute_result"
    },
    {
     "data": {
      "image/png": "[encoded data removed]",
      "text/plain": [
       "<Figure size 432x288 with 1 Axes>"
      ]
     },
     "metadata": {
      "needs_background": "light"
     },
     "output_type": "display_data"
    }
   ],
   "source": [
    "sns.barplot(data=plays_per_game_by_month_and_season.reset_index())"
   ]
  },
  {
   "cell_type": "code",
   "execution_count": null,
   "id": "approved-prayer",
   "metadata": {},
   "outputs": [],
   "source": []
  },
  {
   "cell_type": "code",
   "execution_count": null,
   "id": "banner-white",
   "metadata": {},
   "outputs": [],
   "source": []
  },
  {
   "cell_type": "code",
   "execution_count": 377,
   "id": "mental-appeal",
   "metadata": {},
   "outputs": [
    {
     "data": {
      "text/plain": [
       "game_month  season  play_type\n",
       "December    2009    pass         4496\n",
       "                    run          3517\n",
       "            2010    pass         4370\n",
       "                    run          3489\n",
       "            2011    pass         4544\n",
       "                                 ... \n",
       "September   2016    run          2468\n",
       "            2017    pass         3482\n",
       "                    run          2422\n",
       "            2018    pass         4805\n",
       "                    run          3061\n",
       "Length: 90, dtype: int64"
      ]
     },
     "execution_count": 377,
     "metadata": {},
     "output_type": "execute_result"
    }
   ],
   "source": [
    "df[df['play_type'].isin(['pass', 'run'])].groupby(['game_month', 'season', 'play_type']).size()"
   ]
  },
  {
   "cell_type": "code",
   "execution_count": 380,
   "id": "steady-spencer",
   "metadata": {},
   "outputs": [
    {
     "data": {
      "text/plain": [
       "game_month  season\n",
       "December    2009      64\n",
       "            2010      64\n",
       "            2011      64\n",
       "            2012      79\n",
       "            2013      77\n",
       "            2014      65\n",
       "            2015      64\n",
       "            2016      63\n",
       "            2017      79\n",
       "            2018      47\n",
       "January     2009      16\n",
       "            2010      16\n",
       "            2011      16\n",
       "            2015      16\n",
       "            2016      16\n",
       "November    2009      73\n",
       "            2010      60\n",
       "            2011      60\n",
       "            2012      59\n",
       "            2013      58\n",
       "            2014      69\n",
       "            2015      70\n",
       "            2016      56\n",
       "            2017      58\n",
       "            2018      56\n",
       "October     2009      55\n",
       "            2010      68\n",
       "            2011      68\n",
       "            2012      55\n",
       "            2013      58\n",
       "            2014      61\n",
       "            2015      58\n",
       "            2016      71\n",
       "            2017      71\n",
       "            2018      59\n",
       "September   2009      48\n",
       "            2010      48\n",
       "            2011      48\n",
       "            2012      62\n",
       "            2013      63\n",
       "            2014      61\n",
       "            2015      48\n",
       "            2016      49\n",
       "            2017      48\n",
       "            2018      62\n",
       "Name: game_id, dtype: int64"
      ]
     },
     "execution_count": 380,
     "metadata": {},
     "output_type": "execute_result"
    }
   ],
   "source": [
    "df.groupby(['game_month', 'season'])['game_id'].nunique()"
   ]
  },
  {
   "cell_type": "code",
   "execution_count": 379,
   "id": "superb-spouse",
   "metadata": {},
   "outputs": [
    {
     "data": {
      "text/plain": [
       "game_month  season\n",
       "December    2009      64\n",
       "            2010      64\n",
       "            2011      64\n",
       "            2012      79\n",
       "            2013      77\n",
       "            2014      65\n",
       "            2015      64\n",
       "            2016      63\n",
       "            2017      79\n",
       "            2018      47\n",
       "January     2009      16\n",
       "            2010      16\n",
       "            2011      16\n",
       "            2015      16\n",
       "            2016      16\n",
       "November    2009      73\n",
       "            2010      60\n",
       "            2011      60\n",
       "            2012      59\n",
       "            2013      58\n",
       "            2014      69\n",
       "            2015      70\n",
       "            2016      56\n",
       "            2017      58\n",
       "            2018      56\n",
       "October     2009      55\n",
       "            2010      68\n",
       "            2011      68\n",
       "            2012      55\n",
       "            2013      58\n",
       "            2014      61\n",
       "            2015      58\n",
       "            2016      71\n",
       "            2017      71\n",
       "            2018      59\n",
       "September   2009      48\n",
       "            2010      48\n",
       "            2011      48\n",
       "            2012      62\n",
       "            2013      63\n",
       "            2014      61\n",
       "            2015      48\n",
       "            2016      49\n",
       "            2017      48\n",
       "            2018      62\n",
       "Name: game_id, dtype: int64"
      ]
     },
     "execution_count": 379,
     "metadata": {},
     "output_type": "execute_result"
    }
   ],
   "source": []
  },
  {
   "cell_type": "code",
   "execution_count": null,
   "id": "neutral-springer",
   "metadata": {},
   "outputs": [],
   "source": []
  },
  {
   "cell_type": "code",
   "execution_count": null,
   "id": "architectural-lounge",
   "metadata": {},
   "outputs": [],
   "source": []
  },
  {
   "cell_type": "code",
   "execution_count": null,
   "id": "distant-bishop",
   "metadata": {},
   "outputs": [],
   "source": []
  },
  {
   "cell_type": "code",
   "execution_count": null,
   "id": "unlikely-richardson",
   "metadata": {},
   "outputs": [],
   "source": []
  },
  {
   "cell_type": "code",
   "execution_count": null,
   "id": "sustained-sensitivity",
   "metadata": {},
   "outputs": [],
   "source": []
  },
  {
   "cell_type": "code",
   "execution_count": null,
   "id": "overhead-shuttle",
   "metadata": {},
   "outputs": [],
   "source": []
  },
  {
   "cell_type": "code",
   "execution_count": null,
   "id": "secure-certification",
   "metadata": {},
   "outputs": [],
   "source": []
  },
  {
   "cell_type": "code",
   "execution_count": null,
   "id": "ideal-olympus",
   "metadata": {},
   "outputs": [],
   "source": []
  },
  {
   "cell_type": "code",
   "execution_count": null,
   "id": "attractive-ocean",
   "metadata": {},
   "outputs": [],
   "source": []
  }
 ],
 "metadata": {
  "kernelspec": {
   "display_name": "Python 3",
   "language": "python",
   "name": "python3"
  },
  "language_info": {
   "codemirror_mode": {
    "name": "ipython",
    "version": 3
   },
   "file_extension": ".py",
   "mimetype": "text/x-python",
   "name": "python",
   "nbconvert_exporter": "python",
   "pygments_lexer": "ipython3",
   "version": "3.7.9"
  }
 },
 "nbformat": 4,
 "nbformat_minor": 5
}
