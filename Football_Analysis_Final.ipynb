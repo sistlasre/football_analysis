{
 "cells": [
  {
   "cell_type": "code",
   "execution_count": 1,
   "id": "under-zealand",
   "metadata": {},
   "outputs": [],
   "source": [
    "import numpy as np\n",
    "import pandas as pd"
   ]
  },
  {
   "cell_type": "code",
   "execution_count": 2,
   "id": "fantastic-isaac",
   "metadata": {},
   "outputs": [],
   "source": [
    "# Columns we want from the dataset\n",
    "columns_to_use = ['game_date', 'yardline_100', 'yrdln', 'ydstogo', 'ydsnet', 'desc', 'play_type', 'yards_gained', 'shotgun', 'no_huddle', 'qb_dropback', 'qb_scramble', 'pass_length', 'pass_location', 'air_yards', 'yards_after_catch', 'run_location', 'run_gap', 'field_goal_result', 'kick_distance', 'extra_point_result', 'two_point_conv_result', 'incomplete_pass', 'interception', 'qb_hit', 'pass_attempt', 'rush_attempt', 'sack', 'touchdown', 'pass_touchdown', 'rush_touchdown', 'extra_point_attempt', 'two_point_attempt', 'field_goal_attempt', 'passer_player_id', 'passer_player_name', 'receiver_player_id', 'receiver_player_name', 'rusher_player_id', 'rusher_player_name']"
   ]
  },
  {
   "cell_type": "markdown",
   "id": "organizational-vegetarian",
   "metadata": {},
   "source": [
    "### Fetched the following dataset from Kaggle:\n",
    "\n",
    "https://www.kaggle.com/maxhorowitz/nflplaybyplay2009to2016?select=NFL+Play+by+Play+2009-2018+%28v5%29.csv"
   ]
  },
  {
   "cell_type": "code",
   "execution_count": 3,
   "id": "manufactured-netscape",
   "metadata": {},
   "outputs": [
    {
     "name": "stderr",
     "output_type": "stream",
     "text": [
      "/home/ec2-user/.local/lib/python3.7/site-packages/IPython/core/interactiveshell.py:3166: DtypeWarning: Columns (42) have mixed types.Specify dtype option on import or set low_memory=False.\n",
      "  interactivity=interactivity, compiler=compiler, result=result)\n"
     ]
    }
   ],
   "source": [
    "df = pd.read_csv(\"nfl_play_by_play.csv\", usecols=columns_to_use)"
   ]
  },
  {
   "cell_type": "code",
   "execution_count": 4,
   "id": "bibliographic-norway",
   "metadata": {},
   "outputs": [],
   "source": [
    "# Only want rows that correspond to the 4 specific play types\n",
    "df = df[df['play_type'].isin(['pass', 'run', 'field_goal', 'extra_point'])]"
   ]
  },
  {
   "cell_type": "code",
   "execution_count": 5,
   "id": "drawn-choir",
   "metadata": {},
   "outputs": [],
   "source": [
    "def convertGameDateToSeason(game_date):\n",
    "    # If the month is January or February, that means we are in the prior season. So year - 1\n",
    "    # (game_date.month <= 2) will be 1 if prior season. 0 otherwise.\n",
    "    return game_date.year - (game_date.month <= 2)"
   ]
  },
  {
   "cell_type": "code",
   "execution_count": 6,
   "id": "coral-jewel",
   "metadata": {},
   "outputs": [
    {
     "data": {
      "text/plain": [
       "dtype('O')"
      ]
     },
     "execution_count": 6,
     "metadata": {},
     "output_type": "execute_result"
    }
   ],
   "source": [
    "# Let's check the type of game date as we want to ensure it is a datetime object\n",
    "df.dtypes['game_date']"
   ]
  },
  {
   "cell_type": "code",
   "execution_count": 7,
   "id": "academic-dominican",
   "metadata": {},
   "outputs": [],
   "source": [
    "# Convert to a datetime object since it wasn't already\n",
    "df['game_date'] = pd.to_datetime(df['game_date'])"
   ]
  },
  {
   "cell_type": "code",
   "execution_count": 8,
   "id": "polyphonic-canberra",
   "metadata": {},
   "outputs": [
    {
     "data": {
      "text/plain": [
       "dtype('<M8[ns]')"
      ]
     },
     "execution_count": 8,
     "metadata": {},
     "output_type": "execute_result"
    }
   ],
   "source": [
    "# Let's double check\n",
    "df.dtypes['game_date']"
   ]
  },
  {
   "cell_type": "code",
   "execution_count": 9,
   "id": "detected-terror",
   "metadata": {},
   "outputs": [],
   "source": [
    "# Create a new field to represent the season\n",
    "df['season'] = df['game_date'].map(convertGameDateToSeason)"
   ]
  },
  {
   "cell_type": "code",
   "execution_count": 10,
   "id": "stopped-setup",
   "metadata": {},
   "outputs": [],
   "source": [
    "# Let's save all the plays by season for easy consumption later\n",
    "for year in df['season'].unique():\n",
    "    df[df['season'] == year].to_csv(f\"season_datasets/{year}_plays.csv\", index=False)"
   ]
  },
  {
   "cell_type": "code",
   "execution_count": null,
   "id": "intermediate-private",
   "metadata": {},
   "outputs": [],
   "source": []
  }
 ],
 "metadata": {
  "kernelspec": {
   "display_name": "Python 3",
   "language": "python",
   "name": "python3"
  },
  "language_info": {
   "codemirror_mode": {
    "name": "ipython",
    "version": 3
   },
   "file_extension": ".py",
   "mimetype": "text/x-python",
   "name": "python",
   "nbconvert_exporter": "python",
   "pygments_lexer": "ipython3",
   "version": "3.7.9"
  }
 },
 "nbformat": 4,
 "nbformat_minor": 5
}
