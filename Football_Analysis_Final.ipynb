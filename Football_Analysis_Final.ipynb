{
 "cells": [
  {
   "cell_type": "code",
   "execution_count": 25,
   "id": "under-zealand",
   "metadata": {},
   "outputs": [],
   "source": [
    "import numpy as np\n",
    "import pandas as pd"
   ]
  },
  {
   "cell_type": "code",
   "execution_count": 26,
   "id": "fantastic-isaac",
   "metadata": {},
   "outputs": [],
   "source": [
    "# Columns we want from the dataset\n",
    "columns_to_use = ['game_date', 'yardline_100', 'yrdln', 'ydstogo', 'ydsnet', 'desc', 'play_type', 'yards_gained', 'shotgun', 'no_huddle', 'qb_dropback', 'qb_scramble', 'pass_length', 'pass_location', 'air_yards', 'yards_after_catch', 'run_location', 'run_gap', 'field_goal_result', 'kick_distance', 'extra_point_result', 'two_point_conv_result', 'incomplete_pass', 'interception', 'qb_hit', 'pass_attempt', 'rush_attempt', 'sack', 'touchdown', 'pass_touchdown', 'rush_touchdown', 'extra_point_attempt', 'two_point_attempt', 'field_goal_attempt', 'passer_player_id', 'passer_player_name', 'receiver_player_id', 'receiver_player_name', 'rusher_player_id', 'rusher_player_name']"
   ]
  },
  {
   "cell_type": "markdown",
   "id": "grave-skating",
   "metadata": {},
   "source": [
    "### Fetched the following dataset from Kaggle:\n",
    "\n",
    "https://www.kaggle.com/maxhorowitz/nflplaybyplay2009to2016?select=NFL+Play+by+Play+2009-2018+%28v5%29.csv"
   ]
  },
  {
   "cell_type": "code",
   "execution_count": 252,
   "id": "manufactured-netscape",
   "metadata": {},
   "outputs": [
    {
     "name": "stderr",
     "output_type": "stream",
     "text": [
      "/home/ec2-user/.local/lib/python3.7/site-packages/IPython/core/interactiveshell.py:3166: DtypeWarning: Columns (42) have mixed types.Specify dtype option on import or set low_memory=False.\n",
      "  interactivity=interactivity, compiler=compiler, result=result)\n"
     ]
    }
   ],
   "source": [
    "df = pd.read_csv(\"nfl_play_by_play.csv\", usecols=columns_to_use)"
   ]
  },
  {
   "cell_type": "code",
   "execution_count": 253,
   "id": "bibliographic-norway",
   "metadata": {},
   "outputs": [],
   "source": [
    "# Only want rows that correspond to the 4 specific play types\n",
    "# And let's make sure we drop the old index\n",
    "df = df[df['play_type'].isin(['pass', 'run', 'field_goal', 'extra_point'])].reset_index(drop=True)"
   ]
  },
  {
   "cell_type": "code",
   "execution_count": 254,
   "id": "drawn-choir",
   "metadata": {},
   "outputs": [],
   "source": [
    "def convertGameDateToSeason(game_date):\n",
    "    # If the month is January or February, that means we are in the prior season. So year - 1\n",
    "    # (game_date.month <= 2) will be 1 if prior season. 0 otherwise.\n",
    "    return game_date.year - (game_date.month <= 2)"
   ]
  },
  {
   "cell_type": "code",
   "execution_count": 255,
   "id": "coral-jewel",
   "metadata": {},
   "outputs": [
    {
     "data": {
      "text/plain": [
       "dtype('O')"
      ]
     },
     "execution_count": 255,
     "metadata": {},
     "output_type": "execute_result"
    }
   ],
   "source": [
    "# Let's check the type of game date as we want to ensure it is a datetime object\n",
    "df.dtypes['game_date']"
   ]
  },
  {
   "cell_type": "code",
   "execution_count": 256,
   "id": "academic-dominican",
   "metadata": {},
   "outputs": [],
   "source": [
    "# Convert to a datetime object since it wasn't already\n",
    "df['game_date'] = pd.to_datetime(df['game_date'])"
   ]
  },
  {
   "cell_type": "code",
   "execution_count": 257,
   "id": "polyphonic-canberra",
   "metadata": {},
   "outputs": [
    {
     "data": {
      "text/plain": [
       "dtype('<M8[ns]')"
      ]
     },
     "execution_count": 257,
     "metadata": {},
     "output_type": "execute_result"
    }
   ],
   "source": [
    "# Let's double check\n",
    "df.dtypes['game_date']"
   ]
  },
  {
   "cell_type": "code",
   "execution_count": 258,
   "id": "detected-terror",
   "metadata": {},
   "outputs": [],
   "source": [
    "# Create a new field to represent the season\n",
    "df['season'] = df['game_date'].map(convertGameDateToSeason)"
   ]
  },
  {
   "cell_type": "code",
   "execution_count": 259,
   "id": "stopped-setup",
   "metadata": {},
   "outputs": [],
   "source": [
    "# Let's save all the plays by season for easy consumption later\n",
    "for year in df['season'].unique():\n",
    "    df[df['season'] == year].to_csv(f\"season_datasets/{year}_plays.csv\", index=False)"
   ]
  },
  {
   "cell_type": "markdown",
   "id": "afraid-eugene",
   "metadata": {},
   "source": [
    "__Now that we have populated the files, let's read them and derive some extra columns we may want for our visualizations__\n"
   ]
  },
  {
   "cell_type": "code",
   "execution_count": 260,
   "id": "selective-premiere",
   "metadata": {},
   "outputs": [],
   "source": [
    "import numpy as np\n",
    "import pandas as pd\n",
    "import re"
   ]
  },
  {
   "cell_type": "code",
   "execution_count": 261,
   "id": "martial-minutes",
   "metadata": {},
   "outputs": [
    {
     "data": {
      "text/plain": [
       "array(['left', nan, 'right', 'middle'], dtype=object)"
      ]
     },
     "execution_count": 261,
     "metadata": {},
     "output_type": "execute_result"
    }
   ],
   "source": [
    "df['pass_location'].unique()"
   ]
  },
  {
   "cell_type": "markdown",
   "id": "sorted-training",
   "metadata": {},
   "source": [
    "__The pass location field doesn't provide the added level of granularity I want for my analysis so let's try parsing the description__"
   ]
  },
  {
   "cell_type": "code",
   "execution_count": 262,
   "id": "loaded-dover",
   "metadata": {},
   "outputs": [
    {
     "name": "stdout",
     "output_type": "stream",
     "text": [
      "(6:02) (Shotgun) B.Weeden sacked at BAL 50 for -9 yards (E.Dumervil).\n",
      "(4:01) T.Taylor sacked at BUF 13 for -7 yards (D.Harris).\n",
      "(5:42) (Shotgun) A.Smith sacked at KC 30 for -4 yards (F.Cox).\n",
      "(9:28) T.Yates sacked at HOU 29 for -3 yards (M.Lawson).\n",
      "(2:09) D.Brees sacked at NO 15 for -5 yards (J.Watt).\n",
      "(9:13) (Shotgun) A.Smith sacked at TEN 38 for -4 yards (B.Orakpo).\n",
      "(11:10) (Shotgun) R.Tannehill sacked at PHI 24 for -9 yards (sack split by F.Cox and V.Curry).\n",
      "(12:43) R.Fitzpatrick sacked at BUF 42 for -10 yards (S.Ellis). NYJ-S.Ellis was injured during the play. His return is Questionable.\n",
      "(5:21) (Shotgun) T.Romo sacked at DAL 35 for -6 yards (A.Carter).\n",
      "(10:29) (Shotgun) C.Wentz pass to C.Wentz to CIN 28 for 7 yards (V.Burfict). {Pass tipped by #93 W.Clarke}\n"
     ]
    }
   ],
   "source": [
    "# Let's take a look at the pass plays that have no location\n",
    "for description in df[(df['play_type'] == 'pass') & (df['pass_location'].isna())].sample(10).desc:\n",
    "    print(description)"
   ]
  },
  {
   "cell_type": "markdown",
   "id": "minute-theory",
   "metadata": {},
   "source": [
    "__There are some that are passes with no location. But most of these look like sacks. So we can remove them from our analysis for now__"
   ]
  },
  {
   "cell_type": "code",
   "execution_count": 263,
   "id": "marine-necessity",
   "metadata": {},
   "outputs": [
    {
     "name": "stdout",
     "output_type": "stream",
     "text": [
      "Number of pass plays for each pass location\n",
      "==================================================\n",
      "No Location:  12818\n",
      "left:  62909\n",
      "right:  70110\n",
      "middle:  40840\n"
     ]
    }
   ],
   "source": [
    "# Let's just check the number of each of the pass locations so we feel more comfortable filtering out.\n",
    "print(\"Number of pass plays for each pass location\")\n",
    "print(\"=\"*50)\n",
    "print(\"No Location: \", len(df[(df['play_type'] == 'pass') & (df['pass_location'].isna())]))\n",
    "for location in ['left', 'right', 'middle']:\n",
    "    print(f\"{location}: \", len(df[(df['play_type'] == 'pass') & (df['pass_location'] == location)]))"
   ]
  },
  {
   "cell_type": "code",
   "execution_count": 264,
   "id": "opening-trouble",
   "metadata": {},
   "outputs": [
    {
     "name": "stdout",
     "output_type": "stream",
     "text": [
      "======================================== left ========================================\n",
      "(10:29) T.Brady pass short left to W.Welker ran ob at 50 for 14 yards. NE 12-Brady 51st career 300-yard game, tying Dan Fouts for 6th most all-time.\n",
      "(6:50) E.Manning pass short left to T.Beckum for 1 yard, TOUCHDOWN.\n",
      "(4:36) (Shotgun) A.Rodgers pass short left to D.Driver to GB 27 for 5 yards (J.Wilhite).\n",
      "(7:24) D.Brees pass short left to M.Ingram to NO 31 for 16 yards (C.Jones; E.Goldman). Pass -5, YAC 21\n",
      "(13:53) A.Dalton pass short left to M.Jones to CIN 35 for 3 yards (R.Marshall).\n",
      "======================================== right ========================================\n",
      "(15:00) M.Schaub pass incomplete short right to C.Brown.\n",
      "(:22) N.Foles pass deep right to J.Cook ran ob at SEA 16 for 20 yards.\n",
      "(11:53) (Shotgun) B.Roethlisberger pass incomplete short right to H.Miller (D.Jackson).\n",
      "(7:00) (Run formation) R.Tannehill pass short right to B.Hartline to IND 21 for 7 yards (J.Powers).\n",
      "(10:55) (Shotgun) J.Cutler pass incomplete short right to B.Marshall (C.Houston).\n",
      "======================================== middle ========================================\n",
      "(4:16) J.Flacco pass deep middle to D.Mason to CAR 32 for 23 yards (N.Harris).\n",
      "(12:05) (Shotgun) K.Cousins pass short middle to J.Reed to PIT 40 for 13 yards (C.Heyward).\n",
      "(:43) (No Huddle, Shotgun) C.McCoy pass incomplete short middle to G.Little.\n",
      "(1:10) (Shotgun) D.Carr pass incomplete short middle to M.Crabtree.\n",
      "(13:45) (Shotgun) C.Redman pass short middle to J.Snelling to NO 30 for 38 yards (M.Jenkins).\n"
     ]
    }
   ],
   "source": [
    "# Let's see some sample description for each of the passing locations\n",
    "for location in ['left', 'right', 'middle']:\n",
    "    print(\"=\"*40, location, \"=\"*40)\n",
    "    for description in df[(df['play_type'] == 'pass') & (df['pass_location'] == location)].sample(5).desc:\n",
    "        print(description)"
   ]
  },
  {
   "cell_type": "code",
   "execution_count": 265,
   "id": "nervous-camel",
   "metadata": {},
   "outputs": [],
   "source": [
    "# Let's see if we can properly parse enough of the rows to get enough data for our analysis\n",
    "df['pass_loc_detailed'] = df[df['play_type'] == 'pass']['desc'].str.extract(r\"pass (?:incomplete )?([A-Za-z\\s]+?)\\.? (?:to|intended|intercepted)\", flags=re.IGNORECASE)"
   ]
  },
  {
   "cell_type": "code",
   "execution_count": 266,
   "id": "retired-extent",
   "metadata": {
    "scrolled": true
   },
   "outputs": [
    {
     "data": {
      "text/plain": [
       "short right              56622\n",
       "short left               50554\n",
       "short middle             32976\n",
       "deep right               12439\n",
       "deep left                11969\n",
       "deep middle               7699\n",
       "incomplete                 103\n",
       "right                       17\n",
       "left                        16\n",
       "middle                      12\n",
       "short left end               3\n",
       "short right end              2\n",
       "was                          2\n",
       "was thrown incomplete        1\n",
       "Name: pass_loc_detailed, dtype: int64"
      ]
     },
     "execution_count": 266,
     "metadata": {},
     "output_type": "execute_result"
    }
   ],
   "source": [
    "# Let's see what we got!\n",
    "df['pass_loc_detailed'].value_counts()"
   ]
  },
  {
   "cell_type": "markdown",
   "id": "municipal-credit",
   "metadata": {},
   "source": [
    "__Since we want the extra granularity, let's just keep the first 6 listed above.__  \n",
    "__Should be okay since the ones we are filtering out make up an extremely tiny porition of the data.__\n"
   ]
  },
  {
   "cell_type": "code",
   "execution_count": 267,
   "id": "atmospheric-gospel",
   "metadata": {},
   "outputs": [],
   "source": [
    "# Let's just ensure that we can get the top 6 locations without having to hardcode based on the data\n",
    "# We could also consider doing this by a percentage threshold but this is probably fine for now.\n",
    "valid_locations = df['pass_loc_detailed'].value_counts().index[0:6]"
   ]
  },
  {
   "cell_type": "code",
   "execution_count": 268,
   "id": "conditional-appraisal",
   "metadata": {},
   "outputs": [
    {
     "data": {
      "text/plain": [
       "Index(['short right', 'short left', 'short middle', 'deep right', 'deep left',\n",
       "       'deep middle'],\n",
       "      dtype='object')"
      ]
     },
     "execution_count": 268,
     "metadata": {},
     "output_type": "execute_result"
    }
   ],
   "source": [
    "valid_locations"
   ]
  },
  {
   "cell_type": "code",
   "execution_count": 269,
   "id": "inner-field",
   "metadata": {},
   "outputs": [],
   "source": [
    "df.loc[(df['play_type'] == 'pass') & ~(df['pass_loc_detailed'].isin(valid_locations)), 'pass_loc_detailed'] = np.nan"
   ]
  },
  {
   "cell_type": "code",
   "execution_count": 270,
   "id": "faced-patch",
   "metadata": {},
   "outputs": [
    {
     "data": {
      "text/plain": [
       "short right     56622\n",
       "short left      50554\n",
       "short middle    32976\n",
       "deep right      12439\n",
       "deep left       11969\n",
       "deep middle      7699\n",
       "Name: pass_loc_detailed, dtype: int64"
      ]
     },
     "execution_count": 270,
     "metadata": {},
     "output_type": "execute_result"
    }
   ],
   "source": [
    "# Let's see what we got after we filtered out a bit\n",
    "df['pass_loc_detailed'].value_counts()"
   ]
  },
  {
   "cell_type": "markdown",
   "id": "coordinated-reliance",
   "metadata": {},
   "source": [
    "__For fun, let's inspect the field goal and extra point success over the years.__"
   ]
  },
  {
   "cell_type": "code",
   "execution_count": 271,
   "id": "wooden-excerpt",
   "metadata": {},
   "outputs": [
    {
     "data": {
      "text/plain": [
       "array(['good', 'failed', 'blocked', 'aborted'], dtype=object)"
      ]
     },
     "execution_count": 271,
     "metadata": {},
     "output_type": "execute_result"
    }
   ],
   "source": [
    "# Let's first see the possible values for the extra point.\n",
    "df.loc[df['play_type'] == 'extra_point', 'extra_point_result'].unique()"
   ]
  },
  {
   "cell_type": "markdown",
   "id": "animal-pathology",
   "metadata": {},
   "source": [
    "__We only want to consider plays where the kicker actually kicked the ball. So we can filter out \"aborted\"__"
   ]
  },
  {
   "cell_type": "code",
   "execution_count": 272,
   "id": "other-directive",
   "metadata": {},
   "outputs": [],
   "source": [
    "# Let's swap aborted to NaN\n",
    "df['extra_point_result'] = df['extra_point_result'].replace(to_replace=\"aborted\", value=np.nan)"
   ]
  },
  {
   "cell_type": "code",
   "execution_count": 273,
   "id": "superb-gravity",
   "metadata": {},
   "outputs": [
    {
     "data": {
      "text/plain": [
       "array(['good', 'failed', 'blocked', nan], dtype=object)"
      ]
     },
     "execution_count": 273,
     "metadata": {},
     "output_type": "execute_result"
    }
   ],
   "source": [
    "# Let's double check that we only have 3 non-NaN results\n",
    "df.loc[df['play_type'] == 'extra_point', 'extra_point_result'].unique()"
   ]
  },
  {
   "cell_type": "code",
   "execution_count": 274,
   "id": "substantial-intake",
   "metadata": {},
   "outputs": [],
   "source": [
    "# Let's just rename to Made or Missed for ease\n",
    "df['extra_point_result'] = df['extra_point_result'].replace(to_replace=[\"good\", \"failed\", \"blocked\"], value=[\"Made\", \"Missed\", \"Missed\"])"
   ]
  },
  {
   "cell_type": "code",
   "execution_count": 275,
   "id": "understood-grounds",
   "metadata": {},
   "outputs": [],
   "source": [
    "import matplotlib.pyplot as plt\n",
    "import seaborn as sns"
   ]
  },
  {
   "cell_type": "code",
   "execution_count": 276,
   "id": "located-rachel",
   "metadata": {},
   "outputs": [
    {
     "data": {
      "text/plain": [
       "Int64Index([2009, 2010, 2011, 2012, 2013, 2014, 2015, 2016, 2017, 2018], dtype='int64', name='season')"
      ]
     },
     "execution_count": 276,
     "metadata": {},
     "output_type": "execute_result"
    }
   ],
   "source": [
    "xp_kicks_by_season.index.to_flat_index()"
   ]
  },
  {
   "cell_type": "code",
   "execution_count": 277,
   "id": "irish-virtue",
   "metadata": {},
   "outputs": [],
   "source": [
    "xp_kicks_by_season = df[df['extra_point_result'] == 'Made'].groupby(['season']).agg({'extra_point_result': 'count'}).div(df[~df['extra_point_result'].isna()].groupby(['season']).agg({'extra_point_result': 'count'})).rename(columns={\"extra_point_result\": \"XP Pct\"})"
   ]
  },
  {
   "cell_type": "code",
   "execution_count": 278,
   "id": "vital-cricket",
   "metadata": {},
   "outputs": [
    {
     "data": {
      "image/png": "[encoded data removed]",
      "text/plain": [
       "<Figure size 432x288 with 1 Axes>"
      ]
     },
     "metadata": {
      "needs_background": "light"
     },
     "output_type": "display_data"
    }
   ],
   "source": [
    "ax = sns.lineplot(data=xp_kicks_by_season);\n",
    "ax.set(ylim=(.9, 1));"
   ]
  },
  {
   "cell_type": "code",
   "execution_count": null,
   "id": "anticipated-casting",
   "metadata": {},
   "outputs": [],
   "source": []
  },
  {
   "cell_type": "code",
   "execution_count": null,
   "id": "caring-refrigerator",
   "metadata": {},
   "outputs": [],
   "source": []
  },
  {
   "cell_type": "code",
   "execution_count": null,
   "id": "separated-movie",
   "metadata": {},
   "outputs": [],
   "source": []
  },
  {
   "cell_type": "code",
   "execution_count": 279,
   "id": "played-camel",
   "metadata": {},
   "outputs": [
    {
     "data": {
      "text/plain": [
       "array(['missed', 'blocked', 'made'], dtype=object)"
      ]
     },
     "execution_count": 279,
     "metadata": {},
     "output_type": "execute_result"
    }
   ],
   "source": [
    "# Let's first see the possible values for the field goal\n",
    "df.loc[df['play_type'] == 'field_goal', 'field_goal_result'].unique()"
   ]
  },
  {
   "cell_type": "code",
   "execution_count": 280,
   "id": "afraid-essence",
   "metadata": {},
   "outputs": [],
   "source": [
    "# Let's just classify a block as a miss\n",
    "df['field_goal_result'] = df['field_goal_result'].replace(to_replace=\"blocked\", value=\"missed\")"
   ]
  },
  {
   "cell_type": "code",
   "execution_count": 281,
   "id": "medium-joseph",
   "metadata": {},
   "outputs": [
    {
     "data": {
      "text/plain": [
       "array(['missed', 'made'], dtype=object)"
      ]
     },
     "execution_count": 281,
     "metadata": {},
     "output_type": "execute_result"
    }
   ],
   "source": [
    "# Let's verify it changed\n",
    "df.loc[df['play_type'] == 'field_goal', 'field_goal_result'].unique()"
   ]
  },
  {
   "cell_type": "code",
   "execution_count": 282,
   "id": "attempted-commercial",
   "metadata": {},
   "outputs": [
    {
     "data": {
      "text/plain": [
       "8"
      ]
     },
     "execution_count": 282,
     "metadata": {},
     "output_type": "execute_result"
    }
   ],
   "source": [
    "# Now, let's check if we have any NaN for kick distance\n",
    "len(df[(df['play_type'] == 'field_goal') & (df['kick_distance'].isna())])"
   ]
  },
  {
   "cell_type": "code",
   "execution_count": 294,
   "id": "illegal-daily",
   "metadata": {},
   "outputs": [],
   "source": [
    "# Since a small number, let's just use the yard line and add 18 to get the kick distance.\n",
    "df.loc[(df['play_type'] == 'field_goal') & (df['kick_distance'].isna()), 'kick_distance'] = df[(df['play_type'] == 'field_goal') & (df['kick_distance'].isna())]['yardline_100'] + 18"
   ]
  },
  {
   "cell_type": "code",
   "execution_count": 295,
   "id": "indonesian-agenda",
   "metadata": {},
   "outputs": [
    {
     "data": {
      "text/plain": [
       "0"
      ]
     },
     "execution_count": 295,
     "metadata": {},
     "output_type": "execute_result"
    }
   ],
   "source": [
    "# Let's double check it worked\n",
    "len(df[(df['play_type'] == 'field_goal') & (df['kick_distance'].isna())])"
   ]
  },
  {
   "cell_type": "code",
   "execution_count": 310,
   "id": "hungarian-framework",
   "metadata": {},
   "outputs": [],
   "source": [
    "def convertKickDistanceToFgRange(distance):\n",
    "    rangeBegin = int(10*(distance//10))\n",
    "    return f\"{rangeBegin}-{rangeBegin+9}\""
   ]
  },
  {
   "cell_type": "code",
   "execution_count": 324,
   "id": "distant-surprise",
   "metadata": {},
   "outputs": [],
   "source": [
    "df['fg_range'] = df[df['play_type'] == 'field_goal']['kick_distance'].map(convertKickDistanceToFgRange, na_action='ignore')"
   ]
  },
  {
   "cell_type": "code",
   "execution_count": 325,
   "id": "round-study",
   "metadata": {},
   "outputs": [
    {
     "data": {
      "text/plain": [
       "array([nan, '30-39', '40-49', '20-29', '50-59', '60-69', '10-19', '70-79'],\n",
       "      dtype=object)"
      ]
     },
     "execution_count": 325,
     "metadata": {},
     "output_type": "execute_result"
    }
   ],
   "source": [
    "# Let's check if it spit out what we expected\n",
    "df['fg_range'].unique()"
   ]
  },
  {
   "cell_type": "code",
   "execution_count": 329,
   "id": "decimal-frank",
   "metadata": {},
   "outputs": [],
   "source": [
    "fg_kicks_by_season = df[~df['fg_range'].isna()].groupby(['season', 'fg_range']).size().to_frame(\"num_kicks\")"
   ]
  },
  {
   "cell_type": "code",
   "execution_count": 330,
   "id": "independent-elevation",
   "metadata": {},
   "outputs": [
    {
     "data": {
      "image/png": "[encoded data removed]",
      "text/plain": [
       "<Figure size 432x288 with 1 Axes>"
      ]
     },
     "metadata": {
      "needs_background": "light"
     },
     "output_type": "display_data"
    }
   ],
   "source": [
    "sns.lineplot(data=fg_kicks_by_season.reset_index(), x='season', y='num_kicks', hue='fg_range');"
   ]
  },
  {
   "cell_type": "code",
   "execution_count": 314,
   "id": "tender-disposal",
   "metadata": {},
   "outputs": [],
   "source": [
    "pct_fg_by_season = df[df['field_goal_result'] == 'made'].groupby(['season', 'fg_range']).agg({'field_goal_result': 'count'}).div(df[~df['field_goal_result'].isna()].groupby(['season', 'fg_range']).agg({'field_goal_result': 'count'})).rename(columns={\"field_goal_result\": \"FG Pct\"})"
   ]
  },
  {
   "cell_type": "code",
   "execution_count": 316,
   "id": "drawn-tournament",
   "metadata": {},
   "outputs": [
    {
     "data": {
      "image/png": "[encoded data removed]",
      "text/plain": [
       "<Figure size 432x288 with 1 Axes>"
      ]
     },
     "metadata": {
      "needs_background": "light"
     },
     "output_type": "display_data"
    }
   ],
   "source": [
    "sns.lineplot(data=fg_kicks_by_season.reset_index(), x='season', y='FG Pct', hue='fg_range');"
   ]
  },
  {
   "cell_type": "code",
   "execution_count": null,
   "id": "virtual-melbourne",
   "metadata": {},
   "outputs": [],
   "source": []
  },
  {
   "cell_type": "code",
   "execution_count": null,
   "id": "owned-quantum",
   "metadata": {},
   "outputs": [],
   "source": []
  },
  {
   "cell_type": "code",
   "execution_count": null,
   "id": "brazilian-monday",
   "metadata": {},
   "outputs": [],
   "source": []
  },
  {
   "cell_type": "code",
   "execution_count": null,
   "id": "regional-south",
   "metadata": {},
   "outputs": [],
   "source": []
  },
  {
   "cell_type": "code",
   "execution_count": null,
   "id": "related-victoria",
   "metadata": {},
   "outputs": [],
   "source": []
  },
  {
   "cell_type": "code",
   "execution_count": null,
   "id": "productive-modern",
   "metadata": {},
   "outputs": [],
   "source": []
  },
  {
   "cell_type": "code",
   "execution_count": null,
   "id": "confident-lodge",
   "metadata": {},
   "outputs": [],
   "source": []
  },
  {
   "cell_type": "code",
   "execution_count": null,
   "id": "turned-purse",
   "metadata": {},
   "outputs": [],
   "source": []
  },
  {
   "cell_type": "code",
   "execution_count": null,
   "id": "cordless-worcester",
   "metadata": {},
   "outputs": [],
   "source": []
  },
  {
   "cell_type": "code",
   "execution_count": null,
   "id": "standing-implementation",
   "metadata": {},
   "outputs": [],
   "source": []
  },
  {
   "cell_type": "code",
   "execution_count": null,
   "id": "cooked-institution",
   "metadata": {},
   "outputs": [],
   "source": []
  },
  {
   "cell_type": "code",
   "execution_count": null,
   "id": "political-minutes",
   "metadata": {},
   "outputs": [],
   "source": []
  },
  {
   "cell_type": "code",
   "execution_count": null,
   "id": "wrapped-compromise",
   "metadata": {},
   "outputs": [],
   "source": []
  },
  {
   "cell_type": "code",
   "execution_count": 125,
   "id": "downtown-tennis",
   "metadata": {},
   "outputs": [],
   "source": [
    "import matplotlib.pyplot as plt\n",
    "import seaborn as sns"
   ]
  },
  {
   "cell_type": "code",
   "execution_count": 126,
   "id": "rapid-lambda",
   "metadata": {},
   "outputs": [],
   "source": [
    "pass_locations_by_season = df[~df['pass_loc_detailed'].isna()].groupby(['season', 'pass_loc_detailed']).size().to_frame(\"num_plays\")"
   ]
  },
  {
   "cell_type": "code",
   "execution_count": 156,
   "id": "sweet-shannon",
   "metadata": {},
   "outputs": [
    {
     "data": {
      "image/png": "[encoded data removed]",
      "text/plain": [
       "<Figure size 432x288 with 1 Axes>"
      ]
     },
     "metadata": {
      "needs_background": "light"
     },
     "output_type": "display_data"
    }
   ],
   "source": [
    "sns.lineplot(data=pass_locations_by_season.reset_index(), x='season', y='num_plays', hue='pass_loc_detailed');"
   ]
  },
  {
   "cell_type": "code",
   "execution_count": null,
   "id": "mighty-pharmacy",
   "metadata": {},
   "outputs": [],
   "source": []
  }
 ],
 "metadata": {
  "kernelspec": {
   "display_name": "Python 3",
   "language": "python",
   "name": "python3"
  },
  "language_info": {
   "codemirror_mode": {
    "name": "ipython",
    "version": 3
   },
   "file_extension": ".py",
   "mimetype": "text/x-python",
   "name": "python",
   "nbconvert_exporter": "python",
   "pygments_lexer": "ipython3",
   "version": "3.7.9"
  }
 },
 "nbformat": 4,
 "nbformat_minor": 5
}
