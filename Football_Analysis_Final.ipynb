{
 "cells": [
  {
   "cell_type": "code",
   "execution_count": 25,
   "id": "under-zealand",
   "metadata": {},
   "outputs": [],
   "source": [
    "import numpy as np\n",
    "import pandas as pd"
   ]
  },
  {
   "cell_type": "code",
   "execution_count": 26,
   "id": "fantastic-isaac",
   "metadata": {},
   "outputs": [],
   "source": [
    "# Columns we want from the dataset\n",
    "columns_to_use = ['game_date', 'yardline_100', 'yrdln', 'ydstogo', 'ydsnet', 'desc', 'play_type', 'yards_gained', 'shotgun', 'no_huddle', 'qb_dropback', 'qb_scramble', 'pass_length', 'pass_location', 'air_yards', 'yards_after_catch', 'run_location', 'run_gap', 'field_goal_result', 'kick_distance', 'extra_point_result', 'two_point_conv_result', 'incomplete_pass', 'interception', 'qb_hit', 'pass_attempt', 'rush_attempt', 'sack', 'touchdown', 'pass_touchdown', 'rush_touchdown', 'extra_point_attempt', 'two_point_attempt', 'field_goal_attempt', 'passer_player_id', 'passer_player_name', 'receiver_player_id', 'receiver_player_name', 'rusher_player_id', 'rusher_player_name']"
   ]
  },
  {
   "cell_type": "markdown",
   "id": "stuck-teddy",
   "metadata": {},
   "source": [
    "### Fetched the following dataset from Kaggle:\n",
    "\n",
    "https://www.kaggle.com/maxhorowitz/nflplaybyplay2009to2016?select=NFL+Play+by+Play+2009-2018+%28v5%29.csv"
   ]
  },
  {
   "cell_type": "code",
   "execution_count": 27,
   "id": "manufactured-netscape",
   "metadata": {},
   "outputs": [
    {
     "name": "stderr",
     "output_type": "stream",
     "text": [
      "/home/ec2-user/.local/lib/python3.7/site-packages/IPython/core/interactiveshell.py:3166: DtypeWarning: Columns (42) have mixed types.Specify dtype option on import or set low_memory=False.\n",
      "  interactivity=interactivity, compiler=compiler, result=result)\n"
     ]
    }
   ],
   "source": [
    "df = pd.read_csv(\"nfl_play_by_play.csv\", usecols=columns_to_use)"
   ]
  },
  {
   "cell_type": "code",
   "execution_count": 31,
   "id": "bibliographic-norway",
   "metadata": {},
   "outputs": [],
   "source": [
    "# Only want rows that correspond to the 4 specific play types\n",
    "# And let's make sure we drop the old index\n",
    "df = df[df['play_type'].isin(['pass', 'run', 'field_goal', 'extra_point'])].reset_index(drop=True)"
   ]
  },
  {
   "cell_type": "code",
   "execution_count": 32,
   "id": "drawn-choir",
   "metadata": {},
   "outputs": [],
   "source": [
    "def convertGameDateToSeason(game_date):\n",
    "    # If the month is January or February, that means we are in the prior season. So year - 1\n",
    "    # (game_date.month <= 2) will be 1 if prior season. 0 otherwise.\n",
    "    return game_date.year - (game_date.month <= 2)"
   ]
  },
  {
   "cell_type": "code",
   "execution_count": 33,
   "id": "coral-jewel",
   "metadata": {},
   "outputs": [
    {
     "data": {
      "text/plain": [
       "dtype('O')"
      ]
     },
     "execution_count": 33,
     "metadata": {},
     "output_type": "execute_result"
    }
   ],
   "source": [
    "# Let's check the type of game date as we want to ensure it is a datetime object\n",
    "df.dtypes['game_date']"
   ]
  },
  {
   "cell_type": "code",
   "execution_count": 34,
   "id": "academic-dominican",
   "metadata": {},
   "outputs": [],
   "source": [
    "# Convert to a datetime object since it wasn't already\n",
    "df['game_date'] = pd.to_datetime(df['game_date'])"
   ]
  },
  {
   "cell_type": "code",
   "execution_count": 35,
   "id": "polyphonic-canberra",
   "metadata": {},
   "outputs": [
    {
     "data": {
      "text/plain": [
       "dtype('<M8[ns]')"
      ]
     },
     "execution_count": 35,
     "metadata": {},
     "output_type": "execute_result"
    }
   ],
   "source": [
    "# Let's double check\n",
    "df.dtypes['game_date']"
   ]
  },
  {
   "cell_type": "code",
   "execution_count": 36,
   "id": "detected-terror",
   "metadata": {},
   "outputs": [],
   "source": [
    "# Create a new field to represent the season\n",
    "df['season'] = df['game_date'].map(convertGameDateToSeason)"
   ]
  },
  {
   "cell_type": "code",
   "execution_count": 37,
   "id": "stopped-setup",
   "metadata": {},
   "outputs": [],
   "source": [
    "# Let's save all the plays by season for easy consumption later\n",
    "for year in df['season'].unique():\n",
    "    df[df['season'] == year].to_csv(f\"season_datasets/{year}_plays.csv\", index=False)"
   ]
  },
  {
   "cell_type": "markdown",
   "id": "satisfied-local",
   "metadata": {},
   "source": [
    "__Now that we have populated the files, let's read them and derive some extra columns we may want for our visualizations__\n"
   ]
  },
  {
   "cell_type": "code",
   "execution_count": 38,
   "id": "architectural-worse",
   "metadata": {},
   "outputs": [],
   "source": [
    "import numpy as np\n",
    "import pandas as pd\n",
    "import re"
   ]
  },
  {
   "cell_type": "code",
   "execution_count": 55,
   "id": "burning-athens",
   "metadata": {},
   "outputs": [
    {
     "data": {
      "text/plain": [
       "array(['left', nan, 'right', 'middle'], dtype=object)"
      ]
     },
     "execution_count": 55,
     "metadata": {},
     "output_type": "execute_result"
    }
   ],
   "source": [
    "df['pass_location'].unique()"
   ]
  },
  {
   "cell_type": "markdown",
   "id": "charged-doctor",
   "metadata": {},
   "source": [
    "__The pass location field doesn't provide the added level of granularity I want for my analysis so let's try parsing the description__"
   ]
  },
  {
   "cell_type": "code",
   "execution_count": 70,
   "id": "extraordinary-northwest",
   "metadata": {},
   "outputs": [
    {
     "name": "stdout",
     "output_type": "stream",
     "text": [
      "(15:00) (Shotgun) M.Cassel sacked at DAL 28 for -8 yards (C.Matthews).\n",
      "(10:59) (Shotgun) A.Davis sacked at CLE 10 for -11 yards (L.Timmons). FUMBLES (L.Timmons), RECOVERED by PIT-A.Moats at CLE 8. A.Moats to CLE 8 for no gain (M.Schwartz).\n",
      "(14:20) (Shotgun) E.Manning sacked at NYG 11 for -13 yards (T.Charlton).\n",
      "(2:32) M.Hasselbeck sacked at SEA 25 for -9 yards (C.Haggans). FUMBLES (C.Haggans), RECOVERED by ARI-B.Robinson at SEA 23. B.Robinson to SEA 23 for no gain (M.Unger).\n",
      "(12:55) C.Palmer pass incomplete to J.Nelson.\n",
      "(5:38) (Shotgun) E.Manning sacked at GB 48 for -1 yards (A.Hawk).\n",
      "(4:08) (Shotgun) A.Davis sacked at STL 15 for -7 yards (K.Martin). FUMBLES (K.Martin), RECOVERED by ARI-A.Cromartie at STL 14. A.Cromartie for 14 yards, TOUCHDOWN. The Replay Official challenged the fumble ruling, and the play was Upheld. The ruling on the field stands.\n",
      "(12:06) (Shotgun) M.Mariota sacked at TEN 49 for -5 yards (M.Wilkerson). FUMBLES (M.Wilkerson), and recovers at TEN 41. M.Mariota to TEN 46 for 5 yards (C.Pace).\n",
      "(14:55) J.Campbell sacked at CLE 15 for -5 yards (T.Suggs).\n",
      "(7:01) R.Griffin sacked at WAS 42 for -7 yards (A.Spencer).\n"
     ]
    }
   ],
   "source": [
    "# Let's take a look at the pass plays that have no location\n",
    "for description in df[(df['play_type'] == 'pass') & (df['pass_location'].isna())].sample(10).desc:\n",
    "    print(description)"
   ]
  },
  {
   "cell_type": "markdown",
   "id": "interesting-arrest",
   "metadata": {},
   "source": [
    "__There are some that are passes with no location. But most of these look like sacks. So we can remove them from our analysis for now__"
   ]
  },
  {
   "cell_type": "code",
   "execution_count": 72,
   "id": "stupid-magnet",
   "metadata": {},
   "outputs": [
    {
     "name": "stdout",
     "output_type": "stream",
     "text": [
      "Number of pass plays for each pass location\n",
      "==================================================\n",
      "No Location:  12818\n",
      "left:  62909\n",
      "right:  70110\n",
      "middle:  40840\n"
     ]
    }
   ],
   "source": [
    "# Let's just check the number of each of the pass locations so we feel more comfortable filtering out.\n",
    "print(\"Number of pass plays for each pass location\")\n",
    "print(\"=\"*50)\n",
    "print(\"No Location: \", len(df[(df['play_type'] == 'pass') & (df['pass_location'].isna())]))\n",
    "for location in ['left', 'right', 'middle']:\n",
    "    print(f\"{location}: \", len(df[(df['play_type'] == 'pass') & (df['pass_location'] == location)]))"
   ]
  },
  {
   "cell_type": "code",
   "execution_count": 73,
   "id": "caring-hypothetical",
   "metadata": {},
   "outputs": [
    {
     "name": "stdout",
     "output_type": "stream",
     "text": [
      "======================================== left ========================================\n",
      "(11:29) J.Campbell pass incomplete short left to J.Gordon (D.Milliner).\n",
      "(7:30) C.Keenum pass short left to J.Cook to TB 35 for 15 yards (L.David).\n",
      "(14:56) (Shotgun) T.Brady pass incomplete short left to D.Branch. Thrown wide of receiver along sideline at NE 43.\n",
      "(2:17) (Shotgun) C.Henne pass incomplete short left to J.Shipley.\n",
      "(10:03) (Shotgun) M.Ryan pass short left to R.White for 39 yards, TOUCHDOWN.\n",
      "======================================== right ========================================\n",
      "(11:05) M.Ryan pass incomplete deep right to R.White.\n",
      "(:34) (Shotgun) B.Roethlisberger pass short right to L.Bell to CLE 13 for 5 yards (J.Taylor) [E.Ogbah].\n",
      "(4:47) (Shotgun) M.Stafford pass short right to R.Bush to DET 32 for 10 yards (D.Davis; A.Allen).\n",
      "(14:25) A.Smith pass short right to J.Maclin pushed ob at KC 45 for 7 yards (D.Amerson).\n",
      "(11:35) (Shotgun) M.Cassel pass short right to J.Charles to WAS 44 for 2 yards (K.Golston; L.Fletcher).\n",
      "======================================== middle ========================================\n",
      "(13:21) (Shotgun) J.Flacco pass short middle to J.Butler to STL 32 for 25 yards (R.McLeod).\n",
      "(1:54) C.Henne pass short middle to G.Camarillo to MIA 41 for 7 yards (D.Florence, K.Mitchell).\n",
      "(2:07) (Shotgun) M.Mariota pass short middle to J.Hunter to BUF 19 for 14 yards (A.Williams).\n",
      "(3:57) (Shotgun) R.Fitzpatrick pass short middle to F.Jackson for 65 yards, TOUCHDOWN. Middle screen, caught at BUF 34. Key block: G.Hangartner.\n",
      "(7:20) M.Ryan pass incomplete deep middle to J.Jones.\n"
     ]
    }
   ],
   "source": [
    "# Let's see some sample description for each of the passing locations\n",
    "for location in ['left', 'right', 'middle']:\n",
    "    print(\"=\"*40, location, \"=\"*40)\n",
    "    for description in df[(df['play_type'] == 'pass') & (df['pass_location'] == location)].sample(5).desc:\n",
    "        print(description)"
   ]
  },
  {
   "cell_type": "code",
   "execution_count": 74,
   "id": "dangerous-arabic",
   "metadata": {},
   "outputs": [],
   "source": [
    "# Let's see if we can properly parse enough of the rows to get enough data for our analysis\n",
    "df['pass_loc_detailed'] = df[df['play_type'] == 'pass']['desc'].str.extract(r\"pass (?:incomplete )?([A-Za-z\\s]+?)\\.? (?:to|intended|intercepted)\", flags=re.IGNORECASE)"
   ]
  },
  {
   "cell_type": "code",
   "execution_count": 82,
   "id": "verified-gibson",
   "metadata": {
    "scrolled": true
   },
   "outputs": [
    {
     "data": {
      "text/plain": [
       "short right              56622\n",
       "short left               50554\n",
       "short middle             32976\n",
       "deep right               12439\n",
       "deep left                11969\n",
       "deep middle               7699\n",
       "incomplete                 103\n",
       "right                       17\n",
       "left                        16\n",
       "middle                      12\n",
       "short left end               3\n",
       "short right end              2\n",
       "was                          2\n",
       "was thrown incomplete        1\n",
       "Name: pass_loc_detailed, dtype: int64"
      ]
     },
     "execution_count": 82,
     "metadata": {},
     "output_type": "execute_result"
    }
   ],
   "source": [
    "# Let's see what we got!\n",
    "df['pass_loc_detailed'].value_counts()"
   ]
  },
  {
   "cell_type": "markdown",
   "id": "developing-delaware",
   "metadata": {},
   "source": [
    "__Since we want the extra granularity, let's just keep the first 6 listed above.__  \n",
    "__Should be okay since the ones we are filtering out make up an extremely tiny porition of the data.__\n"
   ]
  },
  {
   "cell_type": "code",
   "execution_count": 90,
   "id": "turned-guest",
   "metadata": {},
   "outputs": [],
   "source": [
    "# Let's just ensure that we can get the top 6 locations without having to hardcode based on the data\n",
    "# We could also consider doing this by a percentage threshold but this is probably fine for now.\n",
    "valid_locations = df['pass_loc_detailed'].value_counts().index[0:6]"
   ]
  },
  {
   "cell_type": "code",
   "execution_count": 91,
   "id": "polished-ticket",
   "metadata": {},
   "outputs": [
    {
     "data": {
      "text/plain": [
       "Index(['short right', 'short left', 'short middle', 'deep right', 'deep left',\n",
       "       'deep middle'],\n",
       "      dtype='object')"
      ]
     },
     "execution_count": 91,
     "metadata": {},
     "output_type": "execute_result"
    }
   ],
   "source": [
    "valid_locations"
   ]
  },
  {
   "cell_type": "code",
   "execution_count": 114,
   "id": "published-florist",
   "metadata": {},
   "outputs": [],
   "source": [
    "df.loc[(df['play_type'] == 'pass') & ~(df['pass_loc_detailed'].isin(valid_locations)), 'pass_loc_detailed'] = np.nan"
   ]
  },
  {
   "cell_type": "code",
   "execution_count": 115,
   "id": "governmental-evolution",
   "metadata": {},
   "outputs": [
    {
     "data": {
      "text/plain": [
       "short right     56622\n",
       "short left      50554\n",
       "short middle    32976\n",
       "deep right      12439\n",
       "deep left       11969\n",
       "deep middle      7699\n",
       "Name: pass_loc_detailed, dtype: int64"
      ]
     },
     "execution_count": 115,
     "metadata": {},
     "output_type": "execute_result"
    }
   ],
   "source": [
    "# Let's see what we got after we filtered out a bit\n",
    "df['pass_loc_detailed'].value_counts()"
   ]
  },
  {
   "cell_type": "code",
   "execution_count": null,
   "id": "rocky-zimbabwe",
   "metadata": {},
   "outputs": [],
   "source": []
  },
  {
   "cell_type": "code",
   "execution_count": null,
   "id": "silent-israel",
   "metadata": {},
   "outputs": [],
   "source": []
  },
  {
   "cell_type": "code",
   "execution_count": 125,
   "id": "cardiac-marshall",
   "metadata": {},
   "outputs": [],
   "source": [
    "import matplotlib.pyplot as plt\n",
    "import seaborn as sns"
   ]
  },
  {
   "cell_type": "code",
   "execution_count": 126,
   "id": "gorgeous-republican",
   "metadata": {},
   "outputs": [],
   "source": [
    "pass_locations_by_season = df[~df['pass_loc_detailed'].isna()].groupby(['season', 'pass_loc_detailed']).size().to_frame(\"num_plays\")"
   ]
  },
  {
   "cell_type": "code",
   "execution_count": 127,
   "id": "coordinated-arctic",
   "metadata": {},
   "outputs": [
    {
     "data": {
      "image/png": "[encoded data removed]",
      "text/plain": [
       "<Figure size 432x288 with 1 Axes>"
      ]
     },
     "metadata": {
      "needs_background": "light"
     },
     "output_type": "display_data"
    }
   ],
   "source": [
    "sns.lineplot(data=pass_locations_by_season.reset_index(), x='season', y='num_plays', hue='pass_loc_detailed');"
   ]
  },
  {
   "cell_type": "code",
   "execution_count": null,
   "id": "cloudy-kitchen",
   "metadata": {},
   "outputs": [],
   "source": []
  }
 ],
 "metadata": {
  "kernelspec": {
   "display_name": "Python 3",
   "language": "python",
   "name": "python3"
  },
  "language_info": {
   "codemirror_mode": {
    "name": "ipython",
    "version": 3
   },
   "file_extension": ".py",
   "mimetype": "text/x-python",
   "name": "python",
   "nbconvert_exporter": "python",
   "pygments_lexer": "ipython3",
   "version": "3.7.9"
  }
 },
 "nbformat": 4,
 "nbformat_minor": 5
}
